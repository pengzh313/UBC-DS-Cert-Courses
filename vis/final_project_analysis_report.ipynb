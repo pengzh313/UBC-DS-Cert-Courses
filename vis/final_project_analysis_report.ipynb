{
 "cells": [
  {
   "cell_type": "markdown",
   "metadata": {},
   "source": [
    "# Analysis Report of Vancouver Street Trees Dataset"
   ]
  },
  {
   "cell_type": "markdown",
   "metadata": {},
   "source": [
    "<div style=\"text-align: right\"> November 7, 2021 </div>\n",
    "\n",
    "<div style=\"text-align: right\"> Final Project Analysis Report by Peng Zhang </div>"
   ]
  },
  {
   "cell_type": "markdown",
   "metadata": {},
   "source": [
    "## INTRODUCTION"
   ]
  },
  {
   "cell_type": "markdown",
   "metadata": {},
   "source": [
    "The City of Vancouver is one of the leading cities in Canada to advocate Open Data in the public sector. It has developed and maintained a robust public street trees database that is freely available to the public under the terms of the <a href=\"https://opendata.vancouver.ca/pages/licence/\" target=\"_blank\">Open Government Licence – Vancouver</a>.\n",
    "\n",
    "As a Data Science practitioner and also a Data Liberation believer, it is my pleasure to explore a <a href=\"https://raw.githubusercontent.com/UBC-MDS/exploratory-data-viz/main/data/vancouver_trees.csv\" target=\"_blank\">subset</a> of the Vancouver Street Trees dataset that is introduced by the Data Visualization course at UBC. From this dataset, **the intention of the analysis is to have an overall view of Vancouver street trees for their biological diversity, growth and distributions within neighbourhoods**. The findings would provide reference and insights for the residents of Vancouver, botanists, urban greening project workers, and potential house buyers who are interested with the street trees in the city."
   ]
  },
  {
   "cell_type": "markdown",
   "metadata": {},
   "source": [
    "### Questions of Interest"
   ]
  },
  {
   "cell_type": "markdown",
   "metadata": {},
   "source": [
    "Through a completed Exploratory Data Analysis (EDA) on the above noted Vancouver Street Trees subset, the following questions have been defined according to the intention of the analysis."
   ]
  },
  {
   "cell_type": "markdown",
   "metadata": {},
   "source": [
    "1. Based on the distribution of street trees planted in Vancouver by genus, which genus is the most popular one?\n",
    "2. In the past 30 years, how many trees have been planted every single year? And what is the number of trees planted by genus each year? \n",
    "3. Based on the growth rates of each genus, which genus is the fastest one within the Vancouver street trees dataset?\n",
    "4. How many street trees are growing in each neighbourhood and what are the average age and average diameter of trees in each neighbourhood?"
   ]
  },
  {
   "cell_type": "markdown",
   "metadata": {},
   "source": [
    "## DATA IMPORTS AND WRANGLING"
   ]
  },
  {
   "cell_type": "markdown",
   "metadata": {},
   "source": [
    "### Data imports"
   ]
  },
  {
   "cell_type": "code",
   "execution_count": 1,
   "metadata": {},
   "outputs": [
    {
     "data": {
      "text/html": [
       "<div>\n",
       "<style scoped>\n",
       "    .dataframe tbody tr th:only-of-type {\n",
       "        vertical-align: middle;\n",
       "    }\n",
       "\n",
       "    .dataframe tbody tr th {\n",
       "        vertical-align: top;\n",
       "    }\n",
       "\n",
       "    .dataframe thead th {\n",
       "        text-align: right;\n",
       "    }\n",
       "</style>\n",
       "<table border=\"1\" class=\"dataframe\">\n",
       "  <thead>\n",
       "    <tr style=\"text-align: right;\">\n",
       "      <th></th>\n",
       "      <th>std_street</th>\n",
       "      <th>on_street</th>\n",
       "      <th>species_name</th>\n",
       "      <th>neighbourhood_name</th>\n",
       "      <th>date_planted</th>\n",
       "      <th>diameter</th>\n",
       "      <th>street_side_name</th>\n",
       "      <th>genus_name</th>\n",
       "      <th>assigned</th>\n",
       "      <th>civic_number</th>\n",
       "      <th>plant_area</th>\n",
       "      <th>curb</th>\n",
       "      <th>tree_id</th>\n",
       "      <th>common_name</th>\n",
       "      <th>height_range_id</th>\n",
       "      <th>on_street_block</th>\n",
       "      <th>cultivar_name</th>\n",
       "      <th>root_barrier</th>\n",
       "      <th>latitude</th>\n",
       "      <th>longitude</th>\n",
       "    </tr>\n",
       "  </thead>\n",
       "  <tbody>\n",
       "    <tr>\n",
       "      <th>0</th>\n",
       "      <td>W 13TH AV</td>\n",
       "      <td>MAPLE ST</td>\n",
       "      <td>PSEUDOPLATANUS</td>\n",
       "      <td>Kitsilano</td>\n",
       "      <td>NaN</td>\n",
       "      <td>9.00</td>\n",
       "      <td>EVEN</td>\n",
       "      <td>ACER</td>\n",
       "      <td>N</td>\n",
       "      <td>1996</td>\n",
       "      <td>10</td>\n",
       "      <td>Y</td>\n",
       "      <td>13310</td>\n",
       "      <td>SYCAMORE MAPLE</td>\n",
       "      <td>4</td>\n",
       "      <td>2900</td>\n",
       "      <td>NaN</td>\n",
       "      <td>N</td>\n",
       "      <td>49.259856</td>\n",
       "      <td>-123.150586</td>\n",
       "    </tr>\n",
       "    <tr>\n",
       "      <th>1</th>\n",
       "      <td>WALES ST</td>\n",
       "      <td>WALES ST</td>\n",
       "      <td>PLATANOIDES</td>\n",
       "      <td>Renfrew-Collingwood</td>\n",
       "      <td>2018-11-28</td>\n",
       "      <td>3.00</td>\n",
       "      <td>ODD</td>\n",
       "      <td>ACER</td>\n",
       "      <td>N</td>\n",
       "      <td>5291</td>\n",
       "      <td>7</td>\n",
       "      <td>Y</td>\n",
       "      <td>259084</td>\n",
       "      <td>PRINCETON GOLD MAPLE</td>\n",
       "      <td>1</td>\n",
       "      <td>5200</td>\n",
       "      <td>PRINCETON GOLD</td>\n",
       "      <td>N</td>\n",
       "      <td>49.236650</td>\n",
       "      <td>-123.051831</td>\n",
       "    </tr>\n",
       "    <tr>\n",
       "      <th>2</th>\n",
       "      <td>W BROADWAY</td>\n",
       "      <td>W BROADWAY</td>\n",
       "      <td>RUBRUM</td>\n",
       "      <td>Kitsilano</td>\n",
       "      <td>1996-04-19</td>\n",
       "      <td>14.00</td>\n",
       "      <td>EVEN</td>\n",
       "      <td>ACER</td>\n",
       "      <td>N</td>\n",
       "      <td>3618</td>\n",
       "      <td>C</td>\n",
       "      <td>Y</td>\n",
       "      <td>167986</td>\n",
       "      <td>KARPICK RED MAPLE</td>\n",
       "      <td>3</td>\n",
       "      <td>3600</td>\n",
       "      <td>KARPICK</td>\n",
       "      <td>N</td>\n",
       "      <td>49.264250</td>\n",
       "      <td>-123.184020</td>\n",
       "    </tr>\n",
       "    <tr>\n",
       "      <th>3</th>\n",
       "      <td>PENTICTON ST</td>\n",
       "      <td>PENTICTON ST</td>\n",
       "      <td>CALLERYANA</td>\n",
       "      <td>Renfrew-Collingwood</td>\n",
       "      <td>2006-03-06</td>\n",
       "      <td>3.75</td>\n",
       "      <td>EVEN</td>\n",
       "      <td>PYRUS</td>\n",
       "      <td>N</td>\n",
       "      <td>2502</td>\n",
       "      <td>5</td>\n",
       "      <td>Y</td>\n",
       "      <td>213386</td>\n",
       "      <td>CHANTICLEER PEAR</td>\n",
       "      <td>1</td>\n",
       "      <td>2500</td>\n",
       "      <td>CHANTICLEER</td>\n",
       "      <td>Y</td>\n",
       "      <td>49.261036</td>\n",
       "      <td>-123.052921</td>\n",
       "    </tr>\n",
       "    <tr>\n",
       "      <th>4</th>\n",
       "      <td>RHODES ST</td>\n",
       "      <td>RHODES ST</td>\n",
       "      <td>GLYPTOSTROBOIDES</td>\n",
       "      <td>Renfrew-Collingwood</td>\n",
       "      <td>2001-11-01</td>\n",
       "      <td>3.00</td>\n",
       "      <td>ODD</td>\n",
       "      <td>METASEQUOIA</td>\n",
       "      <td>N</td>\n",
       "      <td>5639</td>\n",
       "      <td>N</td>\n",
       "      <td>Y</td>\n",
       "      <td>189223</td>\n",
       "      <td>DAWN REDWOOD</td>\n",
       "      <td>2</td>\n",
       "      <td>5600</td>\n",
       "      <td>NaN</td>\n",
       "      <td>N</td>\n",
       "      <td>49.233354</td>\n",
       "      <td>-123.050249</td>\n",
       "    </tr>\n",
       "    <tr>\n",
       "      <th>...</th>\n",
       "      <td>...</td>\n",
       "      <td>...</td>\n",
       "      <td>...</td>\n",
       "      <td>...</td>\n",
       "      <td>...</td>\n",
       "      <td>...</td>\n",
       "      <td>...</td>\n",
       "      <td>...</td>\n",
       "      <td>...</td>\n",
       "      <td>...</td>\n",
       "      <td>...</td>\n",
       "      <td>...</td>\n",
       "      <td>...</td>\n",
       "      <td>...</td>\n",
       "      <td>...</td>\n",
       "      <td>...</td>\n",
       "      <td>...</td>\n",
       "      <td>...</td>\n",
       "      <td>...</td>\n",
       "      <td>...</td>\n",
       "    </tr>\n",
       "    <tr>\n",
       "      <th>29995</th>\n",
       "      <td>ROBSON ST</td>\n",
       "      <td>ROBSON ST</td>\n",
       "      <td>CAMPESTRE</td>\n",
       "      <td>West End</td>\n",
       "      <td>NaN</td>\n",
       "      <td>7.00</td>\n",
       "      <td>ODD</td>\n",
       "      <td>ACER</td>\n",
       "      <td>N</td>\n",
       "      <td>1015</td>\n",
       "      <td>c</td>\n",
       "      <td>Y</td>\n",
       "      <td>122814</td>\n",
       "      <td>HEDGE MAPLE</td>\n",
       "      <td>2</td>\n",
       "      <td>1000</td>\n",
       "      <td>NaN</td>\n",
       "      <td>N</td>\n",
       "      <td>49.283666</td>\n",
       "      <td>-123.123231</td>\n",
       "    </tr>\n",
       "    <tr>\n",
       "      <th>29996</th>\n",
       "      <td>OSLER ST</td>\n",
       "      <td>CONNAUGHT DRIVE</td>\n",
       "      <td>PLATANOIDES</td>\n",
       "      <td>Shaughnessy</td>\n",
       "      <td>2007-04-16</td>\n",
       "      <td>8.00</td>\n",
       "      <td>ODD</td>\n",
       "      <td>ACER</td>\n",
       "      <td>N</td>\n",
       "      <td>4690</td>\n",
       "      <td>10</td>\n",
       "      <td>Y</td>\n",
       "      <td>132211</td>\n",
       "      <td>NORWAY MAPLE</td>\n",
       "      <td>1</td>\n",
       "      <td>1000</td>\n",
       "      <td>NaN</td>\n",
       "      <td>Y</td>\n",
       "      <td>49.243636</td>\n",
       "      <td>-123.129480</td>\n",
       "    </tr>\n",
       "    <tr>\n",
       "      <th>29997</th>\n",
       "      <td>BEATRICE ST</td>\n",
       "      <td>BEATRICE ST</td>\n",
       "      <td>CERASIFERA</td>\n",
       "      <td>Victoria-Fraserview</td>\n",
       "      <td>NaN</td>\n",
       "      <td>17.30</td>\n",
       "      <td>EVEN</td>\n",
       "      <td>PRUNUS</td>\n",
       "      <td>N</td>\n",
       "      <td>6218</td>\n",
       "      <td>9</td>\n",
       "      <td>Y</td>\n",
       "      <td>59355</td>\n",
       "      <td>PISSARD PLUM</td>\n",
       "      <td>3</td>\n",
       "      <td>6200</td>\n",
       "      <td>ATROPURPUREUM</td>\n",
       "      <td>N</td>\n",
       "      <td>49.227406</td>\n",
       "      <td>-123.066936</td>\n",
       "    </tr>\n",
       "    <tr>\n",
       "      <th>29998</th>\n",
       "      <td>ANGUS DRIVE</td>\n",
       "      <td>ANGUS DRIVE</td>\n",
       "      <td>BILOBA</td>\n",
       "      <td>Shaughnessy</td>\n",
       "      <td>2006-02-17</td>\n",
       "      <td>4.00</td>\n",
       "      <td>ODD</td>\n",
       "      <td>GINKGO</td>\n",
       "      <td>N</td>\n",
       "      <td>1551</td>\n",
       "      <td>9</td>\n",
       "      <td>Y</td>\n",
       "      <td>207753</td>\n",
       "      <td>GINKGO OR MAIDENHAIR TREE</td>\n",
       "      <td>1</td>\n",
       "      <td>1500</td>\n",
       "      <td>NaN</td>\n",
       "      <td>Y</td>\n",
       "      <td>49.254431</td>\n",
       "      <td>-123.140382</td>\n",
       "    </tr>\n",
       "    <tr>\n",
       "      <th>29999</th>\n",
       "      <td>MAIN ST</td>\n",
       "      <td>MAIN ST</td>\n",
       "      <td>EUCHLORA   X</td>\n",
       "      <td>Riley Park</td>\n",
       "      <td>NaN</td>\n",
       "      <td>12.00</td>\n",
       "      <td>ODD</td>\n",
       "      <td>TILIA</td>\n",
       "      <td>N</td>\n",
       "      <td>4323</td>\n",
       "      <td>C</td>\n",
       "      <td>Y</td>\n",
       "      <td>92997</td>\n",
       "      <td>CRIMEAN LINDEN</td>\n",
       "      <td>4</td>\n",
       "      <td>4300</td>\n",
       "      <td>NaN</td>\n",
       "      <td>N</td>\n",
       "      <td>49.246969</td>\n",
       "      <td>-123.101328</td>\n",
       "    </tr>\n",
       "  </tbody>\n",
       "</table>\n",
       "<p>30000 rows × 20 columns</p>\n",
       "</div>"
      ],
      "text/plain": [
       "         std_street        on_street      species_name   neighbourhood_name  \\\n",
       "0         W 13TH AV         MAPLE ST    PSEUDOPLATANUS            Kitsilano   \n",
       "1          WALES ST         WALES ST       PLATANOIDES  Renfrew-Collingwood   \n",
       "2        W BROADWAY       W BROADWAY            RUBRUM            Kitsilano   \n",
       "3      PENTICTON ST     PENTICTON ST        CALLERYANA  Renfrew-Collingwood   \n",
       "4         RHODES ST        RHODES ST  GLYPTOSTROBOIDES  Renfrew-Collingwood   \n",
       "...             ...              ...               ...                  ...   \n",
       "29995     ROBSON ST        ROBSON ST         CAMPESTRE             West End   \n",
       "29996      OSLER ST  CONNAUGHT DRIVE       PLATANOIDES          Shaughnessy   \n",
       "29997   BEATRICE ST      BEATRICE ST        CERASIFERA  Victoria-Fraserview   \n",
       "29998   ANGUS DRIVE      ANGUS DRIVE            BILOBA          Shaughnessy   \n",
       "29999       MAIN ST          MAIN ST      EUCHLORA   X           Riley Park   \n",
       "\n",
       "      date_planted  diameter street_side_name   genus_name assigned  \\\n",
       "0              NaN      9.00             EVEN         ACER        N   \n",
       "1       2018-11-28      3.00              ODD         ACER        N   \n",
       "2       1996-04-19     14.00             EVEN         ACER        N   \n",
       "3       2006-03-06      3.75             EVEN        PYRUS        N   \n",
       "4       2001-11-01      3.00              ODD  METASEQUOIA        N   \n",
       "...            ...       ...              ...          ...      ...   \n",
       "29995          NaN      7.00              ODD         ACER        N   \n",
       "29996   2007-04-16      8.00              ODD         ACER        N   \n",
       "29997          NaN     17.30             EVEN       PRUNUS        N   \n",
       "29998   2006-02-17      4.00              ODD       GINKGO        N   \n",
       "29999          NaN     12.00              ODD        TILIA        N   \n",
       "\n",
       "       civic_number plant_area curb  tree_id                common_name  \\\n",
       "0              1996         10    Y    13310             SYCAMORE MAPLE   \n",
       "1              5291          7    Y   259084       PRINCETON GOLD MAPLE   \n",
       "2              3618          C    Y   167986          KARPICK RED MAPLE   \n",
       "3              2502          5    Y   213386           CHANTICLEER PEAR   \n",
       "4              5639          N    Y   189223               DAWN REDWOOD   \n",
       "...             ...        ...  ...      ...                        ...   \n",
       "29995          1015          c    Y   122814                HEDGE MAPLE   \n",
       "29996          4690         10    Y   132211               NORWAY MAPLE   \n",
       "29997          6218          9    Y    59355               PISSARD PLUM   \n",
       "29998          1551          9    Y   207753  GINKGO OR MAIDENHAIR TREE   \n",
       "29999          4323          C    Y    92997             CRIMEAN LINDEN   \n",
       "\n",
       "       height_range_id  on_street_block   cultivar_name root_barrier  \\\n",
       "0                    4             2900             NaN            N   \n",
       "1                    1             5200  PRINCETON GOLD            N   \n",
       "2                    3             3600         KARPICK            N   \n",
       "3                    1             2500     CHANTICLEER            Y   \n",
       "4                    2             5600             NaN            N   \n",
       "...                ...              ...             ...          ...   \n",
       "29995                2             1000             NaN            N   \n",
       "29996                1             1000             NaN            Y   \n",
       "29997                3             6200   ATROPURPUREUM            N   \n",
       "29998                1             1500             NaN            Y   \n",
       "29999                4             4300             NaN            N   \n",
       "\n",
       "        latitude   longitude  \n",
       "0      49.259856 -123.150586  \n",
       "1      49.236650 -123.051831  \n",
       "2      49.264250 -123.184020  \n",
       "3      49.261036 -123.052921  \n",
       "4      49.233354 -123.050249  \n",
       "...          ...         ...  \n",
       "29995  49.283666 -123.123231  \n",
       "29996  49.243636 -123.129480  \n",
       "29997  49.227406 -123.066936  \n",
       "29998  49.254431 -123.140382  \n",
       "29999  49.246969 -123.101328  \n",
       "\n",
       "[30000 rows x 20 columns]"
      ]
     },
     "execution_count": 1,
     "metadata": {},
     "output_type": "execute_result"
    }
   ],
   "source": [
    "# Import libraries needed for this assignment\n",
    "\n",
    "import altair as alt\n",
    "import pandas as pd\n",
    "import json\n",
    "\n",
    "alt.data_transformers.enable(\"data_server\")\n",
    "\n",
    "# Use data sever url method to read data\n",
    "URL = \"https://raw.githubusercontent.com/UBC-MDS/exploratory-data-viz/main/data/vancouver_trees.csv\"\n",
    "trees_df_original = pd.read_csv(URL)\n",
    "\n",
    "# Glance at the original df\n",
    "trees_df_original"
   ]
  },
  {
   "cell_type": "markdown",
   "metadata": {},
   "source": [
    "### Identify and drop irrelevant columns"
   ]
  },
  {
   "cell_type": "code",
   "execution_count": 2,
   "metadata": {},
   "outputs": [
    {
     "name": "stdout",
     "output_type": "stream",
     "text": [
      "<class 'pandas.core.frame.DataFrame'>\n",
      "RangeIndex: 30000 entries, 0 to 29999\n",
      "Data columns (total 20 columns):\n",
      " #   Column              Non-Null Count  Dtype  \n",
      "---  ------              --------------  -----  \n",
      " 0   std_street          30000 non-null  object \n",
      " 1   on_street           30000 non-null  object \n",
      " 2   species_name        30000 non-null  object \n",
      " 3   neighbourhood_name  30000 non-null  object \n",
      " 4   date_planted        14085 non-null  object \n",
      " 5   diameter            30000 non-null  float64\n",
      " 6   street_side_name    30000 non-null  object \n",
      " 7   genus_name          30000 non-null  object \n",
      " 8   assigned            30000 non-null  object \n",
      " 9   civic_number        30000 non-null  int64  \n",
      " 10  plant_area          29722 non-null  object \n",
      " 11  curb                30000 non-null  object \n",
      " 12  tree_id             30000 non-null  int64  \n",
      " 13  common_name         30000 non-null  object \n",
      " 14  height_range_id     30000 non-null  int64  \n",
      " 15  on_street_block     30000 non-null  int64  \n",
      " 16  cultivar_name       16178 non-null  object \n",
      " 17  root_barrier        30000 non-null  object \n",
      " 18  latitude            30000 non-null  float64\n",
      " 19  longitude           30000 non-null  float64\n",
      "dtypes: float64(3), int64(4), object(13)\n",
      "memory usage: 4.6+ MB\n"
     ]
    }
   ],
   "source": [
    "# Check columns of the original df\n",
    "\n",
    "trees_df_original.info()"
   ]
  },
  {
   "cell_type": "markdown",
   "metadata": {},
   "source": [
    "Based on the above data information and the dataset schema from <a href=\"https://opendata.vancouver.ca/explore/dataset/street-trees/information/?disjunctive.species_name&disjunctive.common_name&disjunctive.height_range_id\" target=\"_blank\">City of Vancouver Open Data Portal - Street Trees</a>, the **columns** can be preliminarily identified as four **groups**:\n",
    "\n",
    "1. Trees biological classifications and names, such as `genus_name`, `species_name`, `common_name`, `cultivar_name`\n",
    "2. Trees growth related characteristics, such as `date_planted`, `diameter`, `height_range_id`\n",
    "3. Trees coordinates and areas, such as `latitude`, `longitude`, `neighbourhood_name`\n",
    "4. Other specific location / orientation / identification information"
   ]
  },
  {
   "cell_type": "markdown",
   "metadata": {},
   "source": [
    "As per the questions, the irrelevant columns under the fourth group and trees coordinates will be dropped. Also, to narrow down the focus to the highest level of tree classification, the columns of `species_name`, `common_name`, `cultivar_name` will also be dropped and only keep the column of `genus_name`."
   ]
  },
  {
   "cell_type": "code",
   "execution_count": 3,
   "metadata": {},
   "outputs": [
    {
     "name": "stdout",
     "output_type": "stream",
     "text": [
      "<class 'pandas.core.frame.DataFrame'>\n",
      "RangeIndex: 30000 entries, 0 to 29999\n",
      "Data columns (total 5 columns):\n",
      " #   Column              Non-Null Count  Dtype         \n",
      "---  ------              --------------  -----         \n",
      " 0   neighbourhood_name  30000 non-null  object        \n",
      " 1   date_planted        14085 non-null  datetime64[ns]\n",
      " 2   diameter            30000 non-null  float64       \n",
      " 3   genus_name          30000 non-null  object        \n",
      " 4   height_range_id     30000 non-null  int64         \n",
      "dtypes: datetime64[ns](1), float64(1), int64(1), object(2)\n",
      "memory usage: 1.1+ MB\n"
     ]
    }
   ],
   "source": [
    "# Transform the column 'date_planted' to a datetime64 dtype and drop irrelevant columns\n",
    "trees_df_dropped = pd.read_csv(URL,parse_dates = ['date_planted']\n",
    "                                    ).drop(columns=['std_street',\n",
    "                                                    'on_street',\n",
    "                                                    'street_side_name',\n",
    "                                                    'assigned',\n",
    "                                                    'civic_number',\n",
    "                                                    'plant_area',\n",
    "                                                    'curb',\n",
    "                                                    'on_street_block',\n",
    "                                                    'tree_id',\n",
    "                                                    'root_barrier',\n",
    "                                                    'latitude',\n",
    "                                                    'longitude',\n",
    "                                                    'species_name',\n",
    "                                                    'common_name',\n",
    "                                                    'cultivar_name'])\n",
    "\n",
    "trees_df_dropped.info()"
   ]
  },
  {
   "cell_type": "markdown",
   "metadata": {},
   "source": [
    "### Exam null values"
   ]
  },
  {
   "cell_type": "markdown",
   "metadata": {},
   "source": [
    "Based on the above dateframe information, the column of `date_planted` has almost half of values missed. Since reviewing trees growth is one of the tasks in this analysis, any observations without the date of being planted will be considered as uninformative data and dropped from the original dataframe. In the EDA, an extra analysis has been performed and verified that dropping the observations with null values in `date_planted` will not cause the data representativeness issue."
   ]
  },
  {
   "cell_type": "code",
   "execution_count": 4,
   "metadata": {},
   "outputs": [
    {
     "name": "stdout",
     "output_type": "stream",
     "text": [
      "<class 'pandas.core.frame.DataFrame'>\n",
      "Int64Index: 14085 entries, 1 to 29998\n",
      "Data columns (total 5 columns):\n",
      " #   Column              Non-Null Count  Dtype         \n",
      "---  ------              --------------  -----         \n",
      " 0   neighbourhood_name  14085 non-null  object        \n",
      " 1   date_planted        14085 non-null  datetime64[ns]\n",
      " 2   diameter            14085 non-null  float64       \n",
      " 3   genus_name          14085 non-null  object        \n",
      " 4   height_range_id     14085 non-null  int64         \n",
      "dtypes: datetime64[ns](1), float64(1), int64(1), object(2)\n",
      "memory usage: 660.2+ KB\n"
     ]
    }
   ],
   "source": [
    "# Drop observations without value of date_planted\n",
    "\n",
    "trees_df_dropped_dropna = trees_df_dropped.dropna(subset=['date_planted'])\n",
    "\n",
    "trees_df_dropped_dropna.info()"
   ]
  },
  {
   "cell_type": "markdown",
   "metadata": {},
   "source": [
    "### Further exam for error data"
   ]
  },
  {
   "cell_type": "code",
   "execution_count": 5,
   "metadata": {},
   "outputs": [
    {
     "data": {
      "text/html": [
       "<div>\n",
       "<style scoped>\n",
       "    .dataframe tbody tr th:only-of-type {\n",
       "        vertical-align: middle;\n",
       "    }\n",
       "\n",
       "    .dataframe tbody tr th {\n",
       "        vertical-align: top;\n",
       "    }\n",
       "\n",
       "    .dataframe thead th {\n",
       "        text-align: right;\n",
       "    }\n",
       "</style>\n",
       "<table border=\"1\" class=\"dataframe\">\n",
       "  <thead>\n",
       "    <tr style=\"text-align: right;\">\n",
       "      <th></th>\n",
       "      <th>neighbourhood_name</th>\n",
       "      <th>date_planted</th>\n",
       "      <th>diameter</th>\n",
       "      <th>genus_name</th>\n",
       "      <th>height_range_id</th>\n",
       "    </tr>\n",
       "  </thead>\n",
       "  <tbody>\n",
       "    <tr>\n",
       "      <th>count</th>\n",
       "      <td>14085</td>\n",
       "      <td>14085</td>\n",
       "      <td>14085.000000</td>\n",
       "      <td>14085</td>\n",
       "      <td>14085.000000</td>\n",
       "    </tr>\n",
       "    <tr>\n",
       "      <th>unique</th>\n",
       "      <td>22</td>\n",
       "      <td>NaN</td>\n",
       "      <td>NaN</td>\n",
       "      <td>68</td>\n",
       "      <td>NaN</td>\n",
       "    </tr>\n",
       "    <tr>\n",
       "      <th>top</th>\n",
       "      <td>Renfrew-Collingwood</td>\n",
       "      <td>NaN</td>\n",
       "      <td>NaN</td>\n",
       "      <td>ACER</td>\n",
       "      <td>NaN</td>\n",
       "    </tr>\n",
       "    <tr>\n",
       "      <th>freq</th>\n",
       "      <td>1323</td>\n",
       "      <td>NaN</td>\n",
       "      <td>NaN</td>\n",
       "      <td>3970</td>\n",
       "      <td>NaN</td>\n",
       "    </tr>\n",
       "    <tr>\n",
       "      <th>mean</th>\n",
       "      <td>NaN</td>\n",
       "      <td>2003-09-20 17:40:42.172523904</td>\n",
       "      <td>6.352586</td>\n",
       "      <td>NaN</td>\n",
       "      <td>1.822932</td>\n",
       "    </tr>\n",
       "    <tr>\n",
       "      <th>min</th>\n",
       "      <td>NaN</td>\n",
       "      <td>1989-10-27 00:00:00</td>\n",
       "      <td>0.000000</td>\n",
       "      <td>NaN</td>\n",
       "      <td>0.000000</td>\n",
       "    </tr>\n",
       "    <tr>\n",
       "      <th>25%</th>\n",
       "      <td>NaN</td>\n",
       "      <td>1997-12-15 00:00:00</td>\n",
       "      <td>3.000000</td>\n",
       "      <td>NaN</td>\n",
       "      <td>1.000000</td>\n",
       "    </tr>\n",
       "    <tr>\n",
       "      <th>50%</th>\n",
       "      <td>NaN</td>\n",
       "      <td>2003-04-01 00:00:00</td>\n",
       "      <td>5.000000</td>\n",
       "      <td>NaN</td>\n",
       "      <td>2.000000</td>\n",
       "    </tr>\n",
       "    <tr>\n",
       "      <th>75%</th>\n",
       "      <td>NaN</td>\n",
       "      <td>2009-11-13 00:00:00</td>\n",
       "      <td>8.000000</td>\n",
       "      <td>NaN</td>\n",
       "      <td>2.000000</td>\n",
       "    </tr>\n",
       "    <tr>\n",
       "      <th>max</th>\n",
       "      <td>NaN</td>\n",
       "      <td>2019-06-03 00:00:00</td>\n",
       "      <td>317.000000</td>\n",
       "      <td>NaN</td>\n",
       "      <td>9.000000</td>\n",
       "    </tr>\n",
       "    <tr>\n",
       "      <th>std</th>\n",
       "      <td>NaN</td>\n",
       "      <td>NaN</td>\n",
       "      <td>5.273737</td>\n",
       "      <td>NaN</td>\n",
       "      <td>0.983476</td>\n",
       "    </tr>\n",
       "  </tbody>\n",
       "</table>\n",
       "</div>"
      ],
      "text/plain": [
       "         neighbourhood_name                   date_planted      diameter  \\\n",
       "count                 14085                          14085  14085.000000   \n",
       "unique                   22                            NaN           NaN   \n",
       "top     Renfrew-Collingwood                            NaN           NaN   \n",
       "freq                   1323                            NaN           NaN   \n",
       "mean                    NaN  2003-09-20 17:40:42.172523904      6.352586   \n",
       "min                     NaN            1989-10-27 00:00:00      0.000000   \n",
       "25%                     NaN            1997-12-15 00:00:00      3.000000   \n",
       "50%                     NaN            2003-04-01 00:00:00      5.000000   \n",
       "75%                     NaN            2009-11-13 00:00:00      8.000000   \n",
       "max                     NaN            2019-06-03 00:00:00    317.000000   \n",
       "std                     NaN                            NaN      5.273737   \n",
       "\n",
       "       genus_name  height_range_id  \n",
       "count       14085     14085.000000  \n",
       "unique         68              NaN  \n",
       "top          ACER              NaN  \n",
       "freq         3970              NaN  \n",
       "mean          NaN         1.822932  \n",
       "min           NaN         0.000000  \n",
       "25%           NaN         1.000000  \n",
       "50%           NaN         2.000000  \n",
       "75%           NaN         2.000000  \n",
       "max           NaN         9.000000  \n",
       "std           NaN         0.983476  "
      ]
     },
     "execution_count": 5,
     "metadata": {},
     "output_type": "execute_result"
    }
   ],
   "source": [
    "# Exam the remaining columns for more details\n",
    "\n",
    "trees_df_dropped_dropna.describe(include='all',datetime_is_numeric=True)"
   ]
  },
  {
   "cell_type": "markdown",
   "metadata": {},
   "source": [
    "It has been noticed that the **minimum of `diameter` and `height_range_id`** are **zero**. For `height_range_id`, 0 represents the range of height is from 0 to 10 ft. However, since the `diameter` figure is the diameter of tree at breast height, it should not have the value of 0. So these observations will be considered as invalid data and removed from the df."
   ]
  },
  {
   "cell_type": "code",
   "execution_count": 6,
   "metadata": {},
   "outputs": [
    {
     "data": {
      "text/html": [
       "<div>\n",
       "<style scoped>\n",
       "    .dataframe tbody tr th:only-of-type {\n",
       "        vertical-align: middle;\n",
       "    }\n",
       "\n",
       "    .dataframe tbody tr th {\n",
       "        vertical-align: top;\n",
       "    }\n",
       "\n",
       "    .dataframe thead th {\n",
       "        text-align: right;\n",
       "    }\n",
       "</style>\n",
       "<table border=\"1\" class=\"dataframe\">\n",
       "  <thead>\n",
       "    <tr style=\"text-align: right;\">\n",
       "      <th></th>\n",
       "      <th>neighbourhood_name</th>\n",
       "      <th>date_planted</th>\n",
       "      <th>diameter</th>\n",
       "      <th>genus_name</th>\n",
       "      <th>height_range_id</th>\n",
       "    </tr>\n",
       "  </thead>\n",
       "  <tbody>\n",
       "    <tr>\n",
       "      <th>count</th>\n",
       "      <td>14083</td>\n",
       "      <td>14083</td>\n",
       "      <td>14083.000000</td>\n",
       "      <td>14083</td>\n",
       "      <td>14083.000000</td>\n",
       "    </tr>\n",
       "    <tr>\n",
       "      <th>unique</th>\n",
       "      <td>22</td>\n",
       "      <td>NaN</td>\n",
       "      <td>NaN</td>\n",
       "      <td>68</td>\n",
       "      <td>NaN</td>\n",
       "    </tr>\n",
       "    <tr>\n",
       "      <th>top</th>\n",
       "      <td>Renfrew-Collingwood</td>\n",
       "      <td>NaN</td>\n",
       "      <td>NaN</td>\n",
       "      <td>ACER</td>\n",
       "      <td>NaN</td>\n",
       "    </tr>\n",
       "    <tr>\n",
       "      <th>freq</th>\n",
       "      <td>1323</td>\n",
       "      <td>NaN</td>\n",
       "      <td>NaN</td>\n",
       "      <td>3970</td>\n",
       "      <td>NaN</td>\n",
       "    </tr>\n",
       "    <tr>\n",
       "      <th>mean</th>\n",
       "      <td>NaN</td>\n",
       "      <td>2003-09-20 23:57:38.893701504</td>\n",
       "      <td>6.353489</td>\n",
       "      <td>NaN</td>\n",
       "      <td>1.822978</td>\n",
       "    </tr>\n",
       "    <tr>\n",
       "      <th>min</th>\n",
       "      <td>NaN</td>\n",
       "      <td>1989-10-27 00:00:00</td>\n",
       "      <td>0.500000</td>\n",
       "      <td>NaN</td>\n",
       "      <td>0.000000</td>\n",
       "    </tr>\n",
       "    <tr>\n",
       "      <th>25%</th>\n",
       "      <td>NaN</td>\n",
       "      <td>1997-12-15 12:00:00</td>\n",
       "      <td>3.000000</td>\n",
       "      <td>NaN</td>\n",
       "      <td>1.000000</td>\n",
       "    </tr>\n",
       "    <tr>\n",
       "      <th>50%</th>\n",
       "      <td>NaN</td>\n",
       "      <td>2003-04-01 00:00:00</td>\n",
       "      <td>5.000000</td>\n",
       "      <td>NaN</td>\n",
       "      <td>2.000000</td>\n",
       "    </tr>\n",
       "    <tr>\n",
       "      <th>75%</th>\n",
       "      <td>NaN</td>\n",
       "      <td>2009-11-13 00:00:00</td>\n",
       "      <td>8.000000</td>\n",
       "      <td>NaN</td>\n",
       "      <td>2.000000</td>\n",
       "    </tr>\n",
       "    <tr>\n",
       "      <th>max</th>\n",
       "      <td>NaN</td>\n",
       "      <td>2019-06-03 00:00:00</td>\n",
       "      <td>317.000000</td>\n",
       "      <td>NaN</td>\n",
       "      <td>9.000000</td>\n",
       "    </tr>\n",
       "    <tr>\n",
       "      <th>std</th>\n",
       "      <td>NaN</td>\n",
       "      <td>NaN</td>\n",
       "      <td>5.273568</td>\n",
       "      <td>NaN</td>\n",
       "      <td>0.983520</td>\n",
       "    </tr>\n",
       "  </tbody>\n",
       "</table>\n",
       "</div>"
      ],
      "text/plain": [
       "         neighbourhood_name                   date_planted      diameter  \\\n",
       "count                 14083                          14083  14083.000000   \n",
       "unique                   22                            NaN           NaN   \n",
       "top     Renfrew-Collingwood                            NaN           NaN   \n",
       "freq                   1323                            NaN           NaN   \n",
       "mean                    NaN  2003-09-20 23:57:38.893701504      6.353489   \n",
       "min                     NaN            1989-10-27 00:00:00      0.500000   \n",
       "25%                     NaN            1997-12-15 12:00:00      3.000000   \n",
       "50%                     NaN            2003-04-01 00:00:00      5.000000   \n",
       "75%                     NaN            2009-11-13 00:00:00      8.000000   \n",
       "max                     NaN            2019-06-03 00:00:00    317.000000   \n",
       "std                     NaN                            NaN      5.273568   \n",
       "\n",
       "       genus_name  height_range_id  \n",
       "count       14083     14083.000000  \n",
       "unique         68              NaN  \n",
       "top          ACER              NaN  \n",
       "freq         3970              NaN  \n",
       "mean          NaN         1.822978  \n",
       "min           NaN         0.000000  \n",
       "25%           NaN         1.000000  \n",
       "50%           NaN         2.000000  \n",
       "75%           NaN         2.000000  \n",
       "max           NaN         9.000000  \n",
       "std           NaN         0.983520  "
      ]
     },
     "execution_count": 6,
     "metadata": {},
     "output_type": "execute_result"
    }
   ],
   "source": [
    "indexs = trees_df_dropped_dropna[trees_df_dropped_dropna['diameter'] == 0].index\n",
    "\n",
    "# To simplify the object names afterwards, make a cope of df named as trees_df\n",
    "trees_df = trees_df_dropped_dropna.copy()\n",
    "\n",
    "trees_df.drop(indexs, inplace=True)\n",
    "\n",
    "trees_df.describe(include='all',datetime_is_numeric=True)"
   ]
  },
  {
   "cell_type": "markdown",
   "metadata": {},
   "source": [
    "## ANALYSIS"
   ]
  },
  {
   "cell_type": "markdown",
   "metadata": {},
   "source": [
    "### Dataset Description"
   ]
  },
  {
   "cell_type": "markdown",
   "metadata": {},
   "source": [
    "The cleaned target dataframe **trees_df** is composed of 5 columns. There are 68 distinct genera within the total of 14,083 trees (observations). According to <a href=\"https://opendata.vancouver.ca/explore/dataset/street-trees/information/?disjunctive.species_name&disjunctive.common_name&disjunctive.height_range_id\" target=\"_blank\">City of Vancouver Open Data Portal - Street Trees</a> where the dataset was originally obtained, the brief descriptions of columns are listed as below:"
   ]
  },
  {
   "cell_type": "markdown",
   "metadata": {},
   "source": [
    "* **Categorical columns**"
   ]
  },
  {
   "cell_type": "markdown",
   "metadata": {},
   "source": [
    "`neighbourhood_name`: City's defined local area in which the tree is located."
   ]
  },
  {
   "cell_type": "markdown",
   "metadata": {},
   "source": [
    "`genus_name`: Genus name of trees."
   ]
  },
  {
   "cell_type": "markdown",
   "metadata": {},
   "source": [
    "* **Quantitative columns**"
   ]
  },
  {
   "cell_type": "markdown",
   "metadata": {},
   "source": [
    "`diameter`: DBH in inches (DBH stands for diameter of tree at breast height)."
   ]
  },
  {
   "cell_type": "markdown",
   "metadata": {},
   "source": [
    "`height_range_id`: 0-10 for every 10 feet (e.g., 0 = 0-10 ft, 1 = 10-20 ft, 2 = 20-30 ft, and10 = 100+ ft)."
   ]
  },
  {
   "cell_type": "markdown",
   "metadata": {},
   "source": [
    "* **Datetime columns**"
   ]
  },
  {
   "cell_type": "markdown",
   "metadata": {},
   "source": [
    "`date_planted`: The date of planting."
   ]
  },
  {
   "cell_type": "markdown",
   "metadata": {},
   "source": [
    "#### Q1 - Based on distribution of street trees planted in Vancouver by genus, which genus is the most popular one?"
   ]
  },
  {
   "cell_type": "markdown",
   "metadata": {},
   "source": [
    "Biological diversity is one of the interests for the analysis. The quick guess for the answer would be Acer as Acer is a genus of trees commonly known as maples. A maple leaf is on the Canadian flag, and the maple has been chosen as a national symbol in Canada."
   ]
  },
  {
   "cell_type": "code",
   "execution_count": 7,
   "metadata": {},
   "outputs": [
    {
     "data": {
      "text/html": [
       "\n",
       "<div id=\"altair-viz-14b3cd86cce447a6bf036a5f2c895125\"></div>\n",
       "<script type=\"text/javascript\">\n",
       "  (function(spec, embedOpt){\n",
       "    let outputDiv = document.currentScript.previousElementSibling;\n",
       "    if (outputDiv.id !== \"altair-viz-14b3cd86cce447a6bf036a5f2c895125\") {\n",
       "      outputDiv = document.getElementById(\"altair-viz-14b3cd86cce447a6bf036a5f2c895125\");\n",
       "    }\n",
       "    const paths = {\n",
       "      \"vega\": \"https://cdn.jsdelivr.net/npm//vega@5?noext\",\n",
       "      \"vega-lib\": \"https://cdn.jsdelivr.net/npm//vega-lib?noext\",\n",
       "      \"vega-lite\": \"https://cdn.jsdelivr.net/npm//vega-lite@4.8.1?noext\",\n",
       "      \"vega-embed\": \"https://cdn.jsdelivr.net/npm//vega-embed@6?noext\",\n",
       "    };\n",
       "\n",
       "    function loadScript(lib) {\n",
       "      return new Promise(function(resolve, reject) {\n",
       "        var s = document.createElement('script');\n",
       "        s.src = paths[lib];\n",
       "        s.async = true;\n",
       "        s.onload = () => resolve(paths[lib]);\n",
       "        s.onerror = () => reject(`Error loading script: ${paths[lib]}`);\n",
       "        document.getElementsByTagName(\"head\")[0].appendChild(s);\n",
       "      });\n",
       "    }\n",
       "\n",
       "    function showError(err) {\n",
       "      outputDiv.innerHTML = `<div class=\"error\" style=\"color:red;\">${err}</div>`;\n",
       "      throw err;\n",
       "    }\n",
       "\n",
       "    function displayChart(vegaEmbed) {\n",
       "      vegaEmbed(outputDiv, spec, embedOpt)\n",
       "        .catch(err => showError(`Javascript Error: ${err.message}<br>This usually means there's a typo in your chart specification. See the javascript console for the full traceback.`));\n",
       "    }\n",
       "\n",
       "    if(typeof define === \"function\" && define.amd) {\n",
       "      requirejs.config({paths});\n",
       "      require([\"vega-embed\"], displayChart, err => showError(`Error loading script: ${err.message}`));\n",
       "    } else if (typeof vegaEmbed === \"function\") {\n",
       "      displayChart(vegaEmbed);\n",
       "    } else {\n",
       "      loadScript(\"vega\")\n",
       "        .then(() => loadScript(\"vega-lite\"))\n",
       "        .then(() => loadScript(\"vega-embed\"))\n",
       "        .catch(showError)\n",
       "        .then(() => displayChart(vegaEmbed));\n",
       "    }\n",
       "  })({\"config\": {\"view\": {\"continuousWidth\": 400, \"continuousHeight\": 300}}, \"layer\": [{\"mark\": \"bar\", \"encoding\": {\"x\": {\"type\": \"quantitative\", \"aggregate\": \"count\", \"title\": \"Number of Trees\"}, \"y\": {\"type\": \"nominal\", \"field\": \"genus_name\", \"sort\": \"x\", \"title\": \"Genus\"}}}, {\"mark\": {\"type\": \"text\", \"align\": \"left\", \"dx\": 2}, \"encoding\": {\"text\": {\"type\": \"quantitative\", \"aggregate\": \"count\"}, \"x\": {\"type\": \"quantitative\", \"aggregate\": \"count\", \"title\": \"Number of Trees\"}, \"y\": {\"type\": \"nominal\", \"field\": \"genus_name\", \"sort\": \"x\", \"title\": \"Genus\"}}}], \"data\": {\"url\": \"/jupyter/user/648963/proxy/15339/b29f3901103bcc15a69c85a3728fa802.json\"}, \"title\": {\"text\": \"Figure 1 Number of street trees planted per genus\", \"subtitle\": \"Acer is the most popular genus of street trees\"}, \"width\": 550, \"$schema\": \"https://vega.github.io/schema/vega-lite/v4.8.1.json\"}, {\"mode\": \"vega-lite\"});\n",
       "</script>"
      ],
      "text/plain": [
       "alt.LayerChart(...)"
      ]
     },
     "execution_count": 7,
     "metadata": {},
     "output_type": "execute_result"
    }
   ],
   "source": [
    "# To visualize distrubition of genus for whole df\n",
    "plot_1_title = alt.TitleParams(\n",
    "    \"Figure 1 Number of street trees planted per genus\",\n",
    "     subtitle = \"Acer is the most popular genus of street trees\")\n",
    "\n",
    "plot_1_genus = alt.Chart(trees_df).mark_bar().encode(\n",
    "    alt.X('count():Q',title='Number of Trees'),\n",
    "    alt.Y('genus_name:N',title='Genus',sort='x')\n",
    ")\n",
    "\n",
    "# Add text annotation for the number of trees for each genus\n",
    "text_1_genus = plot_1_genus.mark_text(align='left',dx=2).encode(text='count():Q')\n",
    "\n",
    "plot_1_genus = (plot_1_genus + text_1_genus).properties(title=plot_1_title,width=550)\n",
    "\n",
    "plot_1_genus"
   ]
  },
  {
   "cell_type": "markdown",
   "metadata": {},
   "source": [
    "From Figure 1, it has been confirmed that Acer is the most popular genus of trees based on the dataframe. The number of Acer trees is more than double of Prunus trees that have the second largest number in the Vancouver street trees. All the rest of the genera have less than 1,000 trees shown in the dataframe, and 47 out of the total 68 genera have less than 100 trees."
   ]
  },
  {
   "cell_type": "markdown",
   "metadata": {},
   "source": [
    "#### Q2 - In the past 30 years, how many trees have been planted every single year? And what is the number of trees planted by genus each year?"
   ]
  },
  {
   "cell_type": "markdown",
   "metadata": {},
   "source": [
    "The dataframe has provide the specific date of being planted for each tree. From the available data, the age of current trees will be calculated first and then plot the number of trees planted by year. Since the accuracy is not a priority in this case, only the year of tree planted will be extracted for calculating the age till 2021."
   ]
  },
  {
   "cell_type": "code",
   "execution_count": 8,
   "metadata": {},
   "outputs": [
    {
     "data": {
      "text/html": [
       "\n",
       "<div id=\"altair-viz-c6678646d9d0447a95693a64573ebca3\"></div>\n",
       "<script type=\"text/javascript\">\n",
       "  (function(spec, embedOpt){\n",
       "    let outputDiv = document.currentScript.previousElementSibling;\n",
       "    if (outputDiv.id !== \"altair-viz-c6678646d9d0447a95693a64573ebca3\") {\n",
       "      outputDiv = document.getElementById(\"altair-viz-c6678646d9d0447a95693a64573ebca3\");\n",
       "    }\n",
       "    const paths = {\n",
       "      \"vega\": \"https://cdn.jsdelivr.net/npm//vega@5?noext\",\n",
       "      \"vega-lib\": \"https://cdn.jsdelivr.net/npm//vega-lib?noext\",\n",
       "      \"vega-lite\": \"https://cdn.jsdelivr.net/npm//vega-lite@4.8.1?noext\",\n",
       "      \"vega-embed\": \"https://cdn.jsdelivr.net/npm//vega-embed@6?noext\",\n",
       "    };\n",
       "\n",
       "    function loadScript(lib) {\n",
       "      return new Promise(function(resolve, reject) {\n",
       "        var s = document.createElement('script');\n",
       "        s.src = paths[lib];\n",
       "        s.async = true;\n",
       "        s.onload = () => resolve(paths[lib]);\n",
       "        s.onerror = () => reject(`Error loading script: ${paths[lib]}`);\n",
       "        document.getElementsByTagName(\"head\")[0].appendChild(s);\n",
       "      });\n",
       "    }\n",
       "\n",
       "    function showError(err) {\n",
       "      outputDiv.innerHTML = `<div class=\"error\" style=\"color:red;\">${err}</div>`;\n",
       "      throw err;\n",
       "    }\n",
       "\n",
       "    function displayChart(vegaEmbed) {\n",
       "      vegaEmbed(outputDiv, spec, embedOpt)\n",
       "        .catch(err => showError(`Javascript Error: ${err.message}<br>This usually means there's a typo in your chart specification. See the javascript console for the full traceback.`));\n",
       "    }\n",
       "\n",
       "    if(typeof define === \"function\" && define.amd) {\n",
       "      requirejs.config({paths});\n",
       "      require([\"vega-embed\"], displayChart, err => showError(`Error loading script: ${err.message}`));\n",
       "    } else if (typeof vegaEmbed === \"function\") {\n",
       "      displayChart(vegaEmbed);\n",
       "    } else {\n",
       "      loadScript(\"vega\")\n",
       "        .then(() => loadScript(\"vega-lite\"))\n",
       "        .then(() => loadScript(\"vega-embed\"))\n",
       "        .catch(showError)\n",
       "        .then(() => displayChart(vegaEmbed));\n",
       "    }\n",
       "  })({\"config\": {\"view\": {\"continuousWidth\": 400, \"continuousHeight\": 300}}, \"data\": {\"url\": \"/jupyter/user/648963/proxy/15339/92e48fd7e6d0899a1decc58d8602b681.json\"}, \"mark\": \"bar\", \"encoding\": {\"x\": {\"type\": \"nominal\", \"field\": \"year\", \"title\": null}, \"y\": {\"type\": \"quantitative\", \"aggregate\": \"count\", \"title\": \"Number of trees planted\"}}, \"title\": {\"text\": \"Figure 2 Number of street trees planted each year\", \"subtitle\": \"(Data available from 1989 to 2019)\"}, \"$schema\": \"https://vega.github.io/schema/vega-lite/v4.8.1.json\"}, {\"mode\": \"vega-lite\"});\n",
       "</script>"
      ],
      "text/plain": [
       "alt.Chart(...)"
      ]
     },
     "execution_count": 8,
     "metadata": {},
     "output_type": "execute_result"
    }
   ],
   "source": [
    "# Extract year of planted and calculate age of trees\n",
    "trees_df_yr = trees_df.assign(year=trees_df['date_planted'].dt.year)\n",
    "\n",
    "# Calculate the age of trees till 2021.\n",
    "trees_df_age = trees_df_yr.assign(age=(2021-trees_df_yr['year']))\n",
    "\n",
    "# Plot distribution of number of trees planted by year\n",
    "# It has been tested that if specifying the dtype of column 'year' as quantitative (Q), the x-axis label takes scientific\n",
    "# formatting, ie. 1,989. To avoid the \",\", the dtype of 'year' has been specified as nominal (N)\n",
    "plot_2_title = alt.TitleParams(\n",
    "    \"Figure 2 Number of street trees planted each year\",\n",
    "     subtitle = \"(Data available from 1989 to 2019)\")\n",
    "\n",
    "plot_2_year = alt.Chart(trees_df_age).mark_bar().encode(\n",
    "    alt.X('year:N',title=None),\n",
    "    alt.Y('count():Q',title='Number of trees planted')).properties(title=plot_2_title)\n",
    "\n",
    "plot_2_year"
   ]
  },
  {
   "cell_type": "markdown",
   "metadata": {},
   "source": [
    "Figure 2 indicates that there was a peak period between 1995 and 2013 to plant street trees by the City of Vancouver. During this period, the city had planted the highest number of trees in a single year in 1998 and in 2013. Before 1995 and after 2014, the number of trees planted was relatively lower, especially in 2016 when there were less than 50 new trees on public boulevards in Vancouver. Urban forestry is a systemic project. How many trees are planted is determined by a group of factors, such as public budget, tree replacement plan due to species distribution, insects, diseases, or environmental stress, etc. It is a clear message that the City of Vancouver has maintained a dynamic public trees planting program that benefits the wellbeings of residents in Vancouver."
   ]
  },
  {
   "cell_type": "markdown",
   "metadata": {},
   "source": [
    "Moving further, to plot number of trees planted by year and add dropdown selection by genus."
   ]
  },
  {
   "cell_type": "code",
   "execution_count": 9,
   "metadata": {},
   "outputs": [
    {
     "data": {
      "text/html": [
       "\n",
       "<div id=\"altair-viz-d2cbd16d161d42a4b97331128b0b6b73\"></div>\n",
       "<script type=\"text/javascript\">\n",
       "  (function(spec, embedOpt){\n",
       "    let outputDiv = document.currentScript.previousElementSibling;\n",
       "    if (outputDiv.id !== \"altair-viz-d2cbd16d161d42a4b97331128b0b6b73\") {\n",
       "      outputDiv = document.getElementById(\"altair-viz-d2cbd16d161d42a4b97331128b0b6b73\");\n",
       "    }\n",
       "    const paths = {\n",
       "      \"vega\": \"https://cdn.jsdelivr.net/npm//vega@5?noext\",\n",
       "      \"vega-lib\": \"https://cdn.jsdelivr.net/npm//vega-lib?noext\",\n",
       "      \"vega-lite\": \"https://cdn.jsdelivr.net/npm//vega-lite@4.8.1?noext\",\n",
       "      \"vega-embed\": \"https://cdn.jsdelivr.net/npm//vega-embed@6?noext\",\n",
       "    };\n",
       "\n",
       "    function loadScript(lib) {\n",
       "      return new Promise(function(resolve, reject) {\n",
       "        var s = document.createElement('script');\n",
       "        s.src = paths[lib];\n",
       "        s.async = true;\n",
       "        s.onload = () => resolve(paths[lib]);\n",
       "        s.onerror = () => reject(`Error loading script: ${paths[lib]}`);\n",
       "        document.getElementsByTagName(\"head\")[0].appendChild(s);\n",
       "      });\n",
       "    }\n",
       "\n",
       "    function showError(err) {\n",
       "      outputDiv.innerHTML = `<div class=\"error\" style=\"color:red;\">${err}</div>`;\n",
       "      throw err;\n",
       "    }\n",
       "\n",
       "    function displayChart(vegaEmbed) {\n",
       "      vegaEmbed(outputDiv, spec, embedOpt)\n",
       "        .catch(err => showError(`Javascript Error: ${err.message}<br>This usually means there's a typo in your chart specification. See the javascript console for the full traceback.`));\n",
       "    }\n",
       "\n",
       "    if(typeof define === \"function\" && define.amd) {\n",
       "      requirejs.config({paths});\n",
       "      require([\"vega-embed\"], displayChart, err => showError(`Error loading script: ${err.message}`));\n",
       "    } else if (typeof vegaEmbed === \"function\") {\n",
       "      displayChart(vegaEmbed);\n",
       "    } else {\n",
       "      loadScript(\"vega\")\n",
       "        .then(() => loadScript(\"vega-lite\"))\n",
       "        .then(() => loadScript(\"vega-embed\"))\n",
       "        .catch(showError)\n",
       "        .then(() => displayChart(vegaEmbed));\n",
       "    }\n",
       "  })({\"config\": {\"view\": {\"continuousWidth\": 400, \"continuousHeight\": 300}}, \"data\": {\"url\": \"/jupyter/user/648963/proxy/15339/92e48fd7e6d0899a1decc58d8602b681.json\"}, \"mark\": \"bar\", \"encoding\": {\"color\": {\"type\": \"nominal\", \"field\": \"genus_name\", \"title\": \"Genus name\"}, \"opacity\": {\"condition\": {\"value\": 0.9, \"selection\": \"selector001\"}, \"value\": 0.0}, \"x\": {\"type\": \"nominal\", \"field\": \"year\", \"title\": null}, \"y\": {\"type\": \"quantitative\", \"aggregate\": \"count\", \"stack\": false, \"title\": \"Number of trees planted per genus\"}}, \"selection\": {\"selector001\": {\"type\": \"single\", \"fields\": [\"genus_name\"], \"bind\": {\"input\": \"select\", \"options\": [\"ABIES\", \"ACER\", \"AESCULUS\", \"AMELANCHIER\", \"BETULA\", \"CALOCEDRUS\", \"CARPINUS\", \"CATALPA\", \"CEDRUS\", \"CELTIS\", \"CERCIDIPHYLLUM\", \"CERCIS\", \"CHAMAECYPARIS\", \"CHITALPA\", \"CLADRASTIS\", \"CORNUS\", \"CORYLUS\", \"CRATAEGUS\", \"DAVIDIA\", \"EUCOMMIA\", \"EUONYMUS\", \"FAGUS\", \"FRAXINUS\", \"GINKGO\", \"GLEDITSIA\", \"GYMNOCLADUS\", \"HIBISCUS\", \"JUGLANS\", \"KOELREUTERIA\", \"LABURNUM\", \"LIQUIDAMBAR\", \"LIRIODENDRON\", \"MAGNOLIA\", \"MALUS\", \"MANGLIETIA\", \"MESPILUS\", \"METASEQUOIA\", \"NOTHOFAGUS\", \"NYSSA\", \"OSTRYIA\", \"PARROTIA\", \"PICEA\", \"PINUS\", \"PLATANUS\", \"POPULUS\", \"PRUNUS\", \"PSEUDOTSUGA\", \"PTEROCARYA\", \"PYRUS\", \"QUERCUS\", \"RHAMNUS\", \"RHUS\", \"ROBINIA\", \"SALIX\", \"SEQUOIA\", \"SEQUOIADENDRON\", \"SOPHORA\", \"SORBUS\", \"STEWARTIA\", \"STYRAX\", \"SYRINGA\", \"TAXUS\", \"THUJA\", \"TILIA\", \"TRACHYCARPUS\", \"TSUGA\", \"ULMUS\", \"ZELKOVA\"], \"name\": \"Genus\"}}}, \"title\": {\"text\": \"Figure 3 Number of street trees planted each year by genus(from 1989 to 2019)\", \"subtitle\": \"Dropdown selection is available by genus\", \"subtitleColor\": \"steelblue\", \"subtitleFontWeight\": \"bold\"}, \"$schema\": \"https://vega.github.io/schema/vega-lite/v4.8.1.json\"}, {\"mode\": \"vega-lite\"});\n",
       "</script>"
      ],
      "text/plain": [
       "alt.Chart(...)"
      ]
     },
     "execution_count": 9,
     "metadata": {},
     "output_type": "execute_result"
    }
   ],
   "source": [
    "# Plot number of trees planted by year and add dropdown selection by genus\n",
    "\n",
    "# Specify the subtitle color and bold it to draw attention\n",
    "plot_3_title = alt.TitleParams(\n",
    "    \"Figure 3 Number of street trees planted each year by genus(from 1989 to 2019)\",\n",
    "    subtitle = \"Dropdown selection is available by genus\",\n",
    "    subtitleColor='steelblue', subtitleFontWeight='bold')\n",
    "\n",
    "genus = sorted(trees_df_age['genus_name'].unique())\n",
    "\n",
    "dropdown_genus = alt.binding_select(name='Genus', options=genus)\n",
    "\n",
    "select_genus = alt.selection_single(fields=['genus_name'], bind=dropdown_genus)\n",
    "\n",
    "# Since objective is to see number of trees for each genus, for y axis, specify stack=False\n",
    "plot_3_genus_year_bar = alt.Chart(trees_df_age).mark_bar().encode(\n",
    "    alt.X('year:N',title=None),\n",
    "    alt.Y('count():Q',stack=False,title='Number of trees planted per genus'),\n",
    "    alt.Color('genus_name:N',title='Genus name')\n",
    ").add_selection(select_genus).encode(\n",
    "    opacity=alt.condition(select_genus, alt.value(0.9), alt.value(0.0))).properties(title=plot_3_title)\n",
    "\n",
    "plot_3_genus_year_bar"
   ]
  },
  {
   "cell_type": "markdown",
   "metadata": {},
   "source": [
    "Figure 3 with dropdown selection has combined multiple information required in one plot and provide the audiences with convenience to efficiently explore number of trees planted from 1989 to 2019 for each genus.\n",
    "\n",
    "The answer to the question 2 would be valuable reference for the public who are interested with tree planting history in Vancouver. In addition, for researchers, the answer will provide a first-hand insight into the urban forestry and street trees replacement planning."
   ]
  },
  {
   "cell_type": "markdown",
   "metadata": {},
   "source": [
    "#### Q3 - Based on the growth rates of each genus, which genus is the fastest one within the Vancouver street trees dataset?"
   ]
  },
  {
   "cell_type": "markdown",
   "metadata": {},
   "source": [
    "The insights extracted from this question will not only confirm or verify some of the current scientific conclusions on trees growth patterns, but also provide accumulated evidences for improving the optimization of street trees in cities with similar ecological environment as Vancouver."
   ]
  },
  {
   "cell_type": "code",
   "execution_count": 10,
   "metadata": {},
   "outputs": [
    {
     "data": {
      "text/html": [
       "\n",
       "<div id=\"altair-viz-d4a70a75ea4d48aa9bf879db04c06bed\"></div>\n",
       "<script type=\"text/javascript\">\n",
       "  (function(spec, embedOpt){\n",
       "    let outputDiv = document.currentScript.previousElementSibling;\n",
       "    if (outputDiv.id !== \"altair-viz-d4a70a75ea4d48aa9bf879db04c06bed\") {\n",
       "      outputDiv = document.getElementById(\"altair-viz-d4a70a75ea4d48aa9bf879db04c06bed\");\n",
       "    }\n",
       "    const paths = {\n",
       "      \"vega\": \"https://cdn.jsdelivr.net/npm//vega@5?noext\",\n",
       "      \"vega-lib\": \"https://cdn.jsdelivr.net/npm//vega-lib?noext\",\n",
       "      \"vega-lite\": \"https://cdn.jsdelivr.net/npm//vega-lite@4.8.1?noext\",\n",
       "      \"vega-embed\": \"https://cdn.jsdelivr.net/npm//vega-embed@6?noext\",\n",
       "    };\n",
       "\n",
       "    function loadScript(lib) {\n",
       "      return new Promise(function(resolve, reject) {\n",
       "        var s = document.createElement('script');\n",
       "        s.src = paths[lib];\n",
       "        s.async = true;\n",
       "        s.onload = () => resolve(paths[lib]);\n",
       "        s.onerror = () => reject(`Error loading script: ${paths[lib]}`);\n",
       "        document.getElementsByTagName(\"head\")[0].appendChild(s);\n",
       "      });\n",
       "    }\n",
       "\n",
       "    function showError(err) {\n",
       "      outputDiv.innerHTML = `<div class=\"error\" style=\"color:red;\">${err}</div>`;\n",
       "      throw err;\n",
       "    }\n",
       "\n",
       "    function displayChart(vegaEmbed) {\n",
       "      vegaEmbed(outputDiv, spec, embedOpt)\n",
       "        .catch(err => showError(`Javascript Error: ${err.message}<br>This usually means there's a typo in your chart specification. See the javascript console for the full traceback.`));\n",
       "    }\n",
       "\n",
       "    if(typeof define === \"function\" && define.amd) {\n",
       "      requirejs.config({paths});\n",
       "      require([\"vega-embed\"], displayChart, err => showError(`Error loading script: ${err.message}`));\n",
       "    } else if (typeof vegaEmbed === \"function\") {\n",
       "      displayChart(vegaEmbed);\n",
       "    } else {\n",
       "      loadScript(\"vega\")\n",
       "        .then(() => loadScript(\"vega-lite\"))\n",
       "        .then(() => loadScript(\"vega-embed\"))\n",
       "        .catch(showError)\n",
       "        .then(() => displayChart(vegaEmbed));\n",
       "    }\n",
       "  })({\"config\": {\"view\": {\"continuousWidth\": 400, \"continuousHeight\": 300}}, \"data\": {\"url\": \"/jupyter/user/648963/proxy/15339/441fa82d8e974262f3f2564a79209ee6.json\"}, \"mark\": {\"type\": \"point\", \"size\": 5}, \"encoding\": {\"opacity\": {\"condition\": {\"value\": 0.9, \"selection\": \"selector001\"}, \"value\": 0.0}, \"x\": {\"type\": \"quantitative\", \"field\": \"rate_dia\", \"title\": \"Growth rate in diameter (inch/yr)\"}, \"y\": {\"type\": \"quantitative\", \"field\": \"rate_height\", \"title\": \"Growth rate in height (unit/yr)\"}}, \"selection\": {\"selector002\": {\"type\": \"interval\", \"bind\": \"scales\", \"encodings\": [\"x\", \"y\"]}, \"selector001\": {\"type\": \"single\", \"fields\": [\"genus_name\"], \"bind\": {\"input\": \"select\", \"options\": [\"ABIES\", \"ACER\", \"AESCULUS\", \"AMELANCHIER\", \"BETULA\", \"CALOCEDRUS\", \"CARPINUS\", \"CATALPA\", \"CEDRUS\", \"CELTIS\", \"CERCIDIPHYLLUM\", \"CERCIS\", \"CHAMAECYPARIS\", \"CHITALPA\", \"CLADRASTIS\", \"CORNUS\", \"CORYLUS\", \"CRATAEGUS\", \"DAVIDIA\", \"EUCOMMIA\", \"EUONYMUS\", \"FAGUS\", \"FRAXINUS\", \"GINKGO\", \"GLEDITSIA\", \"GYMNOCLADUS\", \"HIBISCUS\", \"JUGLANS\", \"KOELREUTERIA\", \"LABURNUM\", \"LIQUIDAMBAR\", \"LIRIODENDRON\", \"MAGNOLIA\", \"MALUS\", \"MANGLIETIA\", \"MESPILUS\", \"METASEQUOIA\", \"NOTHOFAGUS\", \"NYSSA\", \"OSTRYIA\", \"PARROTIA\", \"PICEA\", \"PINUS\", \"PLATANUS\", \"POPULUS\", \"PRUNUS\", \"PSEUDOTSUGA\", \"PTEROCARYA\", \"PYRUS\", \"QUERCUS\", \"RHAMNUS\", \"RHUS\", \"ROBINIA\", \"SALIX\", \"SEQUOIA\", \"SEQUOIADENDRON\", \"SOPHORA\", \"SORBUS\", \"STEWARTIA\", \"STYRAX\", \"SYRINGA\", \"TAXUS\", \"THUJA\", \"TILIA\", \"TRACHYCARPUS\", \"TSUGA\", \"ULMUS\", \"ZELKOVA\"], \"name\": \"Genus\"}}}, \"title\": {\"text\": \"Figure 4 Trees growth rate in diameter & height per genus\", \"subtitle\": [\"Dropdown selection is available by genus\", \"Zooming and Panning are available\"], \"subtitleColor\": \"steelblue\", \"subtitleFontWeight\": \"bold\"}, \"width\": 600, \"$schema\": \"https://vega.github.io/schema/vega-lite/v4.8.1.json\"}, {\"mode\": \"vega-lite\"});\n",
       "</script>"
      ],
      "text/plain": [
       "alt.Chart(...)"
      ]
     },
     "execution_count": 10,
     "metadata": {},
     "output_type": "execute_result"
    }
   ],
   "source": [
    "# Calculate growth rate in diameter, growth rate in height and save them into df\n",
    "\n",
    "trees_df_rate = trees_df_age.assign(rate_dia=trees_df_age['diameter']/trees_df_age['age'],\n",
    "                                    rate_height=trees_df_age['height_range_id']/trees_df_age['age']\n",
    "                                   ).round(2)\n",
    "\n",
    "# Plot two growth rates using scatter chart\n",
    "# Add zooming and panning to solve the issue that the plot is saturated\n",
    "# Add dropdown widget to select genus\n",
    "plot_4_title = alt.TitleParams(\n",
    "    \"Figure 4 Trees growth rate in diameter & height per genus\",\n",
    "    subtitle = [\"Dropdown selection is available by genus\", \"Zooming and Panning are available\"],\n",
    "    subtitleColor='steelblue', subtitleFontWeight='bold')\n",
    "\n",
    "plot_growth_rates = alt.Chart(trees_df_rate).mark_point(size=5).encode(\n",
    "    alt.X('rate_dia:Q',title=\"Growth rate in diameter (inch/yr)\"),\n",
    "    alt.Y('rate_height:Q',title=\"Growth rate in height (unit/yr)\")\n",
    ").interactive()\n",
    "\n",
    "plot_4_growth_rates_genus = plot_growth_rates.add_selection(select_genus).encode(\n",
    "    opacity=alt.condition(select_genus, alt.value(0.9), alt.value(0.0))).properties(title=plot_4_title,width=600)\n",
    "\n",
    "plot_4_growth_rates_genus"
   ]
  },
  {
   "cell_type": "markdown",
   "metadata": {},
   "source": [
    "Note that the growth rate in height is represented in **unit/yr**. Here the \"unit\" refers to height_range_id: 0-10 for every 10 feet (e.g., 0 = 0-10 ft, 1 = 10-20 ft, 2 = 20-30 ft, and10 = 100+ ft)"
   ]
  },
  {
   "cell_type": "markdown",
   "metadata": {},
   "source": [
    "By adding zooming, panning and dropdown widget selection features, audiences can effectively check the two growth rates based on their interested genus."
   ]
  },
  {
   "cell_type": "markdown",
   "metadata": {},
   "source": [
    "**It must be noted that** in the original dataframe, the height of trees was collected as **height_range_id**. Audiences should be aware that the calculated average growth rate by height is not an absolute value of height but a processed relative variable. Typically, if the quantity of observations for a particular genus is sufficient (deep research is required to define the \"sufficiency\"), the result will have more accuracy from the statistical perspective. But if the genus has limited observations in the dataframe, the audiences should be more careful to assess the results. Again, deep research is required in future analysis."
   ]
  },
  {
   "cell_type": "markdown",
   "metadata": {},
   "source": [
    "In order to effectively compare the growth rate for all genera, except for a bar chart that just shows the mean value, a boxplot is also created to include a few key summary statistics and visualize data distribution. This combination will provide more information to audiences particularly for researchers who may care about the statistics more than a mean value."
   ]
  },
  {
   "cell_type": "code",
   "execution_count": 11,
   "metadata": {},
   "outputs": [
    {
     "data": {
      "text/html": [
       "\n",
       "<div id=\"altair-viz-e5bbfe1bf5494a8690fe1a6e519194c0\"></div>\n",
       "<script type=\"text/javascript\">\n",
       "  (function(spec, embedOpt){\n",
       "    let outputDiv = document.currentScript.previousElementSibling;\n",
       "    if (outputDiv.id !== \"altair-viz-e5bbfe1bf5494a8690fe1a6e519194c0\") {\n",
       "      outputDiv = document.getElementById(\"altair-viz-e5bbfe1bf5494a8690fe1a6e519194c0\");\n",
       "    }\n",
       "    const paths = {\n",
       "      \"vega\": \"https://cdn.jsdelivr.net/npm//vega@5?noext\",\n",
       "      \"vega-lib\": \"https://cdn.jsdelivr.net/npm//vega-lib?noext\",\n",
       "      \"vega-lite\": \"https://cdn.jsdelivr.net/npm//vega-lite@4.8.1?noext\",\n",
       "      \"vega-embed\": \"https://cdn.jsdelivr.net/npm//vega-embed@6?noext\",\n",
       "    };\n",
       "\n",
       "    function loadScript(lib) {\n",
       "      return new Promise(function(resolve, reject) {\n",
       "        var s = document.createElement('script');\n",
       "        s.src = paths[lib];\n",
       "        s.async = true;\n",
       "        s.onload = () => resolve(paths[lib]);\n",
       "        s.onerror = () => reject(`Error loading script: ${paths[lib]}`);\n",
       "        document.getElementsByTagName(\"head\")[0].appendChild(s);\n",
       "      });\n",
       "    }\n",
       "\n",
       "    function showError(err) {\n",
       "      outputDiv.innerHTML = `<div class=\"error\" style=\"color:red;\">${err}</div>`;\n",
       "      throw err;\n",
       "    }\n",
       "\n",
       "    function displayChart(vegaEmbed) {\n",
       "      vegaEmbed(outputDiv, spec, embedOpt)\n",
       "        .catch(err => showError(`Javascript Error: ${err.message}<br>This usually means there's a typo in your chart specification. See the javascript console for the full traceback.`));\n",
       "    }\n",
       "\n",
       "    if(typeof define === \"function\" && define.amd) {\n",
       "      requirejs.config({paths});\n",
       "      require([\"vega-embed\"], displayChart, err => showError(`Error loading script: ${err.message}`));\n",
       "    } else if (typeof vegaEmbed === \"function\") {\n",
       "      displayChart(vegaEmbed);\n",
       "    } else {\n",
       "      loadScript(\"vega\")\n",
       "        .then(() => loadScript(\"vega-lite\"))\n",
       "        .then(() => loadScript(\"vega-embed\"))\n",
       "        .catch(showError)\n",
       "        .then(() => displayChart(vegaEmbed));\n",
       "    }\n",
       "  })({\"config\": {\"view\": {\"continuousWidth\": 400, \"continuousHeight\": 300}, \"title\": {\"anchor\": \"middle\"}}, \"hconcat\": [{\"mark\": \"bar\", \"encoding\": {\"color\": {\"type\": \"quantitative\", \"aggregate\": \"count\", \"scale\": {\"scheme\": \"blues\"}, \"title\": \"Number of trees\"}, \"x\": {\"type\": \"quantitative\", \"aggregate\": \"mean\", \"field\": \"rate_dia\", \"title\": \"Average growth rate in diameter (inch/yr)\"}, \"y\": {\"type\": \"nominal\", \"field\": \"genus_name\", \"sort\": \"x\", \"title\": \"Genus\"}}, \"width\": 130}, {\"mark\": {\"type\": \"boxplot\", \"color\": \"green\"}, \"encoding\": {\"x\": {\"type\": \"quantitative\", \"field\": \"rate_dia\", \"scale\": {\"clamp\": true, \"domain\": [0, 4]}, \"title\": \"Growth rate in diameter (inch/yr)\"}, \"y\": {\"type\": \"nominal\", \"field\": \"genus_name\", \"sort\": [\"RHUS\", \"RHAMNUS\", \"SALIX\", \"CEDRUS\", \"EUONYMUS\", \"MANGLIETIA\", \"KOELREUTERIA\", \"MESPILUS\", \"GYMNOCLADUS\", \"PICEA\", \"SOPHORA\", \"LABURNUM\", \"PYRUS\", \"MALUS\", \"HIBISCUS\", \"CRATAEGUS\", \"OSTRYIA\", \"STYRAX\", \"TRACHYCARPUS\", \"ABIES\", \"CATALPA\", \"DAVIDIA\", \"CORYLUS\", \"GLEDITSIA\", \"SEQUOIADENDRON\", \"SYRINGA\", \"CORNUS\", \"MAGNOLIA\", \"TAXUS\", \"CLADRASTIS\", \"GINKGO\", \"SORBUS\", \"EUCOMMIA\", \"CELTIS\", \"FRAXINUS\", \"CERCIS\", \"CHITALPA\", \"LIRIODENDRON\", \"ACER\", \"PARROTIA\", \"NOTHOFAGUS\", \"AMELANCHIER\", \"CARPINUS\", \"PRUNUS\", \"TILIA\", \"PINUS\", \"FAGUS\", \"ZELKOVA\", \"CERCIDIPHYLLUM\", \"LIQUIDAMBAR\", \"CALOCEDRUS\", \"QUERCUS\", \"PLATANUS\", \"NYSSA\", \"ROBINIA\", \"ULMUS\", \"STEWARTIA\", \"JUGLANS\", \"SEQUOIA\", \"BETULA\", \"CHAMAECYPARIS\", \"METASEQUOIA\", \"THUJA\", \"PTEROCARYA\", \"AESCULUS\", \"POPULUS\", \"PSEUDOTSUGA\", \"TSUGA\"], \"title\": \"Genus\"}}, \"width\": 310}], \"data\": {\"url\": \"/jupyter/user/648963/proxy/15339/441fa82d8e974262f3f2564a79209ee6.json\"}, \"title\": {\"text\": \"Figure 5 Trees average growth rate in diameter per genus\", \"subtitle\": \"TSUGA, PSEUDOTSUGA & POPULUS are top three fastest growing genera\"}, \"$schema\": \"https://vega.github.io/schema/vega-lite/v4.8.1.json\"}, {\"mode\": \"vega-lite\"});\n",
       "</script>"
      ],
      "text/plain": [
       "alt.HConcatChart(...)"
      ]
     },
     "execution_count": 11,
     "metadata": {},
     "output_type": "execute_result"
    }
   ],
   "source": [
    "# Plot average growth rates in diameter per genus\n",
    "\n",
    "plot_5_title = alt.TitleParams(\n",
    "    \"Figure 5 Trees average growth rate in diameter per genus\",\n",
    "    subtitle = \"TSUGA, PSEUDOTSUGA & POPULUS are top three fastest growing genera\")\n",
    "\n",
    "plot_ave_growth_rate_dia_bar = alt.Chart(trees_df_rate).mark_bar().encode(\n",
    "    alt.X('mean(rate_dia)', title='Average growth rate in diameter (inch/yr)'),\n",
    "    alt.Y('genus_name:N',title='Genus',sort='x'),\n",
    "    alt.Color('count()',scale=alt.Scale(scheme='blues'),title='Number of trees')\n",
    ").properties(width=130)\n",
    "\n",
    "# Sort boxplot by average growth rate in diameter to keep consistent with bar chart\n",
    "ave_growth_rate_dia_order = trees_df_rate.groupby('genus_name')['rate_dia'].mean().sort_values().index.tolist()\n",
    "\n",
    "# To distinguish the boxplot from the bar chart, specify the color as green\n",
    "plot_ave_growth_rate_dia_box = alt.Chart(trees_df_rate).mark_boxplot(color='green').encode(\n",
    "    alt.X('rate_dia:Q', title='Growth rate in diameter (inch/yr)'),\n",
    "    alt.Y('genus_name:N',title='Genus',sort=ave_growth_rate_dia_order)\n",
    ").properties(width=310)\n",
    "\n",
    "# Modify the domain of the axis’ scale for boxplot to make the plot more readable\n",
    "# At the same time, discard outliers with the value more than 4 inch/year\n",
    "plot_ave_growth_rate_dia_box_scale = plot_ave_growth_rate_dia_box.encode(alt.X('rate_dia:Q', \n",
    "                                                                               title='Growth rate in diameter (inch/yr)',\n",
    "                                                                               scale=alt.Scale(domain=[0, 4],clamp=True)))\n",
    "\n",
    "# Use top-level title configuration to locate title in the middle\n",
    "plot_5_ave_growth_rates_dia = (plot_ave_growth_rate_dia_bar | plot_ave_growth_rate_dia_box_scale\n",
    "                              ).properties(title=plot_5_title).configure_title(anchor='middle')\n",
    "\n",
    "plot_5_ave_growth_rates_dia"
   ]
  },
  {
   "cell_type": "code",
   "execution_count": 12,
   "metadata": {},
   "outputs": [
    {
     "data": {
      "text/html": [
       "\n",
       "<div id=\"altair-viz-3ff2b483a24c4d70a83e6192e5772425\"></div>\n",
       "<script type=\"text/javascript\">\n",
       "  (function(spec, embedOpt){\n",
       "    let outputDiv = document.currentScript.previousElementSibling;\n",
       "    if (outputDiv.id !== \"altair-viz-3ff2b483a24c4d70a83e6192e5772425\") {\n",
       "      outputDiv = document.getElementById(\"altair-viz-3ff2b483a24c4d70a83e6192e5772425\");\n",
       "    }\n",
       "    const paths = {\n",
       "      \"vega\": \"https://cdn.jsdelivr.net/npm//vega@5?noext\",\n",
       "      \"vega-lib\": \"https://cdn.jsdelivr.net/npm//vega-lib?noext\",\n",
       "      \"vega-lite\": \"https://cdn.jsdelivr.net/npm//vega-lite@4.8.1?noext\",\n",
       "      \"vega-embed\": \"https://cdn.jsdelivr.net/npm//vega-embed@6?noext\",\n",
       "    };\n",
       "\n",
       "    function loadScript(lib) {\n",
       "      return new Promise(function(resolve, reject) {\n",
       "        var s = document.createElement('script');\n",
       "        s.src = paths[lib];\n",
       "        s.async = true;\n",
       "        s.onload = () => resolve(paths[lib]);\n",
       "        s.onerror = () => reject(`Error loading script: ${paths[lib]}`);\n",
       "        document.getElementsByTagName(\"head\")[0].appendChild(s);\n",
       "      });\n",
       "    }\n",
       "\n",
       "    function showError(err) {\n",
       "      outputDiv.innerHTML = `<div class=\"error\" style=\"color:red;\">${err}</div>`;\n",
       "      throw err;\n",
       "    }\n",
       "\n",
       "    function displayChart(vegaEmbed) {\n",
       "      vegaEmbed(outputDiv, spec, embedOpt)\n",
       "        .catch(err => showError(`Javascript Error: ${err.message}<br>This usually means there's a typo in your chart specification. See the javascript console for the full traceback.`));\n",
       "    }\n",
       "\n",
       "    if(typeof define === \"function\" && define.amd) {\n",
       "      requirejs.config({paths});\n",
       "      require([\"vega-embed\"], displayChart, err => showError(`Error loading script: ${err.message}`));\n",
       "    } else if (typeof vegaEmbed === \"function\") {\n",
       "      displayChart(vegaEmbed);\n",
       "    } else {\n",
       "      loadScript(\"vega\")\n",
       "        .then(() => loadScript(\"vega-lite\"))\n",
       "        .then(() => loadScript(\"vega-embed\"))\n",
       "        .catch(showError)\n",
       "        .then(() => displayChart(vegaEmbed));\n",
       "    }\n",
       "  })({\"config\": {\"view\": {\"continuousWidth\": 400, \"continuousHeight\": 300}, \"title\": {\"anchor\": \"middle\"}}, \"hconcat\": [{\"mark\": \"bar\", \"encoding\": {\"color\": {\"type\": \"quantitative\", \"aggregate\": \"count\", \"scale\": {\"scheme\": \"teals\"}, \"title\": \"Number of trees\"}, \"x\": {\"type\": \"quantitative\", \"aggregate\": \"mean\", \"field\": \"rate_height\", \"title\": \"Average growth rate in height (unit/yr)\"}, \"y\": {\"type\": \"nominal\", \"field\": \"genus_name\", \"sort\": \"x\", \"title\": \"Genus\"}}, \"width\": 130}, {\"mark\": {\"type\": \"boxplot\", \"color\": \"grey\"}, \"encoding\": {\"x\": {\"type\": \"quantitative\", \"field\": \"rate_height\", \"scale\": {\"clamp\": true, \"domain\": [0, 0.6]}, \"title\": \"Growth rate in height (unit/yr)\"}, \"y\": {\"type\": \"nominal\", \"field\": \"genus_name\", \"sort\": [\"TRACHYCARPUS\", \"JUGLANS\", \"SOPHORA\", \"SEQUOIA\", \"KOELREUTERIA\", \"EUONYMUS\", \"GYMNOCLADUS\", \"CEDRUS\", \"RHAMNUS\", \"MANGLIETIA\", \"MALUS\", \"PYRUS\", \"HIBISCUS\", \"CATALPA\", \"MESPILUS\", \"EUCOMMIA\", \"PICEA\", \"CRATAEGUS\", \"CORYLUS\", \"OSTRYIA\", \"SEQUOIADENDRON\", \"CLADRASTIS\", \"RHUS\", \"SALIX\", \"ZELKOVA\", \"SORBUS\", \"DAVIDIA\", \"STYRAX\", \"GLEDITSIA\", \"GINKGO\", \"CORNUS\", \"PRUNUS\", \"MAGNOLIA\", \"TAXUS\", \"NOTHOFAGUS\", \"CELTIS\", \"PINUS\", \"CERCIS\", \"SYRINGA\", \"ACER\", \"ABIES\", \"LIRIODENDRON\", \"LABURNUM\", \"FRAXINUS\", \"LIQUIDAMBAR\", \"PARROTIA\", \"CARPINUS\", \"CHITALPA\", \"TILIA\", \"ROBINIA\", \"AMELANCHIER\", \"FAGUS\", \"CERCIDIPHYLLUM\", \"PTEROCARYA\", \"QUERCUS\", \"THUJA\", \"ULMUS\", \"METASEQUOIA\", \"PLATANUS\", \"CHAMAECYPARIS\", \"AESCULUS\", \"CALOCEDRUS\", \"NYSSA\", \"BETULA\", \"STEWARTIA\", \"PSEUDOTSUGA\", \"POPULUS\", \"TSUGA\"], \"title\": \"Genus\"}}, \"width\": 310}], \"data\": {\"url\": \"/jupyter/user/648963/proxy/15339/441fa82d8e974262f3f2564a79209ee6.json\"}, \"title\": {\"text\": \"Figure 6 Trees average growth rate in height per genus\", \"subtitle\": \"TSUGA, POPULUS & PSEUDOTSUGA are top three fastest growing genera\"}, \"$schema\": \"https://vega.github.io/schema/vega-lite/v4.8.1.json\"}, {\"mode\": \"vega-lite\"});\n",
       "</script>"
      ],
      "text/plain": [
       "alt.HConcatChart(...)"
      ]
     },
     "execution_count": 12,
     "metadata": {},
     "output_type": "execute_result"
    }
   ],
   "source": [
    "# Plot average growth rates in height per genus\n",
    "\n",
    "plot_6_title = alt.TitleParams(\n",
    "    \"Figure 6 Trees average growth rate in height per genus\",\n",
    "    subtitle = \"TSUGA, POPULUS & PSEUDOTSUGA are top three fastest growing genera\")\n",
    "\n",
    "# To distinguish the plot from the above growth rates in diameter chart, change alternative color scheme\n",
    "plot_ave_growth_rate_height_bar = alt.Chart(trees_df_rate).mark_bar().encode(\n",
    "    alt.X('mean(rate_height)', title='Average growth rate in height (unit/yr)'),\n",
    "    alt.Y('genus_name:N',title='Genus',sort='x'),\n",
    "    alt.Color('count()',scale=alt.Scale(scheme='teals'),title='Number of trees')\n",
    ").properties(width=130)\n",
    "\n",
    "# Sort boxplot by average growth rate in height to keep consistent with bar chart\n",
    "ave_growth_rate_height_order = trees_df_rate.groupby('genus_name')['rate_height'].mean().sort_values().index.tolist()\n",
    "\n",
    "# To distinguish the boxplot from the bar chart, specify the color as grey\n",
    "plot_ave_growth_rate_height_box = alt.Chart(trees_df_rate).mark_boxplot(color='grey').encode(\n",
    "    alt.X('rate_height:Q', title='Growth rate in height (unit/yr)'),\n",
    "    alt.Y('genus_name:N',title='Genus',sort=ave_growth_rate_height_order)\n",
    ").properties(width=310)\n",
    "\n",
    "# Modify the domain of the axis’ scale for boxplot to make the plot more readable\n",
    "# At the same time, discard outliers with the value more than 0.6 unit/year\n",
    "plot_ave_growth_rate_height_box_scale = plot_ave_growth_rate_height_box.encode(alt.X('rate_height:Q', \n",
    "                                                                               title='Growth rate in height (unit/yr)',\n",
    "                                                                               scale=alt.Scale(domain=[0, 0.6],clamp=True)))\n",
    "\n",
    "# Use top-level title configuration to locate title in the middle\n",
    "plot_6_ave_growth_rates_height = (plot_ave_growth_rate_height_bar | plot_ave_growth_rate_height_box_scale\n",
    "                                 ).properties(title=plot_6_title).configure_title(anchor='middle')\n",
    "\n",
    "plot_6_ave_growth_rates_height"
   ]
  },
  {
   "cell_type": "markdown",
   "metadata": {},
   "source": [
    "Note that the growth rate in height is represented in unit/yr. Here the \"unit\" refers to height_range_id: 0-10 for every 10 feet (e.g., 0 = 0-10 ft, 1 = 10-20 ft, 2 = 20-30 ft, and10 = 100+ ft)"
   ]
  },
  {
   "cell_type": "markdown",
   "metadata": {},
   "source": [
    "Based on Figure 5 and 6, TSUGA, POPULUS and PSEUDOTSUGA are identified as the top three fastest growing genera. But as indicated on the plots and Figure 1, the sample size of the three genera is very limited. The number of trees (observations) of TSUGA, POPULUS and PSEUDOTSUGA in the dataframe are 2, 3, and 8, respectively. Since the sample size may affect the confidence level when analyzing and comparing the growth rates among genera, a futher statistical analysis should be considered in the future to justify the conclusion in this case."
   ]
  },
  {
   "cell_type": "markdown",
   "metadata": {},
   "source": [
    "#### Q4 - How many street trees are growing in each neighbourhood and what are the average age and average diameter of trees in each neighbourhood?"
   ]
  },
  {
   "cell_type": "markdown",
   "metadata": {},
   "source": [
    "The last question might be interesting for residents in Vancouver to know or for potential home buyers to select their desired neighbourhood with considerations of trees distribution and some characters."
   ]
  },
  {
   "cell_type": "code",
   "execution_count": 13,
   "metadata": {},
   "outputs": [],
   "source": [
    "# To make a base map of Vancouver by using the geojson url saved in url_geojson\n",
    "\n",
    "url_geojson = 'https://raw.githubusercontent.com/UBC-MDS/exploratory-data-viz/main/data/local-area-boundary.geojson'\n",
    "\n",
    "# Format it in a Topo json format using alt.Data()\n",
    "\n",
    "data_geojson_remote = alt.Data(url=url_geojson, format=alt.DataFormat(property='features',type='json'))\n",
    "\n",
    "# Then make base Vancouver Altair map using the data_geojson_remote object\n",
    "# Use an identity type and need to reflectY=True. Without this second argument the map of Vancouver is upside down\n",
    "\n",
    "base_map = alt.Chart(data_geojson_remote).mark_geoshape(\n",
    "    color='white',stroke=\"grey\").encode(\n",
    ").project(type='identity', reflectY=True)"
   ]
  },
  {
   "cell_type": "markdown",
   "metadata": {},
   "source": [
    "Perform calculation needed and create a new dataframe."
   ]
  },
  {
   "cell_type": "code",
   "execution_count": 14,
   "metadata": {},
   "outputs": [
    {
     "data": {
      "text/html": [
       "<div>\n",
       "<style scoped>\n",
       "    .dataframe tbody tr th:only-of-type {\n",
       "        vertical-align: middle;\n",
       "    }\n",
       "\n",
       "    .dataframe tbody tr th {\n",
       "        vertical-align: top;\n",
       "    }\n",
       "\n",
       "    .dataframe thead th {\n",
       "        text-align: right;\n",
       "    }\n",
       "</style>\n",
       "<table border=\"1\" class=\"dataframe\">\n",
       "  <thead>\n",
       "    <tr style=\"text-align: right;\">\n",
       "      <th></th>\n",
       "      <th>name</th>\n",
       "      <th>trees_number</th>\n",
       "      <th>ave_diameter</th>\n",
       "      <th>ave_age</th>\n",
       "    </tr>\n",
       "  </thead>\n",
       "  <tbody>\n",
       "    <tr>\n",
       "      <th>0</th>\n",
       "      <td>Renfrew-Collingwood</td>\n",
       "      <td>1323</td>\n",
       "      <td>5.6</td>\n",
       "      <td>17.5</td>\n",
       "    </tr>\n",
       "    <tr>\n",
       "      <th>1</th>\n",
       "      <td>Hastings-Sunrise</td>\n",
       "      <td>1285</td>\n",
       "      <td>8.1</td>\n",
       "      <td>19.7</td>\n",
       "    </tr>\n",
       "    <tr>\n",
       "      <th>2</th>\n",
       "      <td>Kensington-Cedar Cottage</td>\n",
       "      <td>1169</td>\n",
       "      <td>6.5</td>\n",
       "      <td>18.7</td>\n",
       "    </tr>\n",
       "    <tr>\n",
       "      <th>3</th>\n",
       "      <td>Sunset</td>\n",
       "      <td>936</td>\n",
       "      <td>6.0</td>\n",
       "      <td>17.3</td>\n",
       "    </tr>\n",
       "    <tr>\n",
       "      <th>4</th>\n",
       "      <td>Victoria-Fraserview</td>\n",
       "      <td>908</td>\n",
       "      <td>5.5</td>\n",
       "      <td>17.7</td>\n",
       "    </tr>\n",
       "    <tr>\n",
       "      <th>5</th>\n",
       "      <td>Dunbar-Southlands</td>\n",
       "      <td>762</td>\n",
       "      <td>6.1</td>\n",
       "      <td>16.7</td>\n",
       "    </tr>\n",
       "    <tr>\n",
       "      <th>6</th>\n",
       "      <td>Marpole</td>\n",
       "      <td>689</td>\n",
       "      <td>5.6</td>\n",
       "      <td>17.2</td>\n",
       "    </tr>\n",
       "    <tr>\n",
       "      <th>7</th>\n",
       "      <td>Riley Park</td>\n",
       "      <td>684</td>\n",
       "      <td>5.8</td>\n",
       "      <td>17.2</td>\n",
       "    </tr>\n",
       "    <tr>\n",
       "      <th>8</th>\n",
       "      <td>Grandview-Woodland</td>\n",
       "      <td>632</td>\n",
       "      <td>6.6</td>\n",
       "      <td>18.0</td>\n",
       "    </tr>\n",
       "    <tr>\n",
       "      <th>9</th>\n",
       "      <td>Killarney</td>\n",
       "      <td>615</td>\n",
       "      <td>6.2</td>\n",
       "      <td>17.7</td>\n",
       "    </tr>\n",
       "    <tr>\n",
       "      <th>10</th>\n",
       "      <td>Kerrisdale</td>\n",
       "      <td>612</td>\n",
       "      <td>6.0</td>\n",
       "      <td>16.6</td>\n",
       "    </tr>\n",
       "    <tr>\n",
       "      <th>11</th>\n",
       "      <td>Oakridge</td>\n",
       "      <td>549</td>\n",
       "      <td>6.1</td>\n",
       "      <td>17.9</td>\n",
       "    </tr>\n",
       "    <tr>\n",
       "      <th>12</th>\n",
       "      <td>Arbutus-Ridge</td>\n",
       "      <td>535</td>\n",
       "      <td>6.8</td>\n",
       "      <td>17.5</td>\n",
       "    </tr>\n",
       "    <tr>\n",
       "      <th>13</th>\n",
       "      <td>Kitsilano</td>\n",
       "      <td>526</td>\n",
       "      <td>7.2</td>\n",
       "      <td>16.8</td>\n",
       "    </tr>\n",
       "    <tr>\n",
       "      <th>14</th>\n",
       "      <td>Mount Pleasant</td>\n",
       "      <td>513</td>\n",
       "      <td>7.9</td>\n",
       "      <td>18.7</td>\n",
       "    </tr>\n",
       "    <tr>\n",
       "      <th>15</th>\n",
       "      <td>Shaughnessy</td>\n",
       "      <td>483</td>\n",
       "      <td>5.1</td>\n",
       "      <td>16.6</td>\n",
       "    </tr>\n",
       "    <tr>\n",
       "      <th>16</th>\n",
       "      <td>West Point Grey</td>\n",
       "      <td>423</td>\n",
       "      <td>6.5</td>\n",
       "      <td>17.7</td>\n",
       "    </tr>\n",
       "    <tr>\n",
       "      <th>17</th>\n",
       "      <td>Downtown</td>\n",
       "      <td>393</td>\n",
       "      <td>5.8</td>\n",
       "      <td>16.4</td>\n",
       "    </tr>\n",
       "    <tr>\n",
       "      <th>18</th>\n",
       "      <td>South Cambie</td>\n",
       "      <td>362</td>\n",
       "      <td>6.5</td>\n",
       "      <td>18.3</td>\n",
       "    </tr>\n",
       "    <tr>\n",
       "      <th>19</th>\n",
       "      <td>Fairview</td>\n",
       "      <td>248</td>\n",
       "      <td>6.8</td>\n",
       "      <td>16.9</td>\n",
       "    </tr>\n",
       "    <tr>\n",
       "      <th>20</th>\n",
       "      <td>Strathcona</td>\n",
       "      <td>225</td>\n",
       "      <td>6.2</td>\n",
       "      <td>16.3</td>\n",
       "    </tr>\n",
       "    <tr>\n",
       "      <th>21</th>\n",
       "      <td>West End</td>\n",
       "      <td>211</td>\n",
       "      <td>7.2</td>\n",
       "      <td>18.0</td>\n",
       "    </tr>\n",
       "  </tbody>\n",
       "</table>\n",
       "</div>"
      ],
      "text/plain": [
       "                        name  trees_number  ave_diameter  ave_age\n",
       "0        Renfrew-Collingwood          1323           5.6     17.5\n",
       "1           Hastings-Sunrise          1285           8.1     19.7\n",
       "2   Kensington-Cedar Cottage          1169           6.5     18.7\n",
       "3                     Sunset           936           6.0     17.3\n",
       "4        Victoria-Fraserview           908           5.5     17.7\n",
       "5          Dunbar-Southlands           762           6.1     16.7\n",
       "6                    Marpole           689           5.6     17.2\n",
       "7                 Riley Park           684           5.8     17.2\n",
       "8         Grandview-Woodland           632           6.6     18.0\n",
       "9                  Killarney           615           6.2     17.7\n",
       "10                Kerrisdale           612           6.0     16.6\n",
       "11                  Oakridge           549           6.1     17.9\n",
       "12             Arbutus-Ridge           535           6.8     17.5\n",
       "13                 Kitsilano           526           7.2     16.8\n",
       "14            Mount Pleasant           513           7.9     18.7\n",
       "15               Shaughnessy           483           5.1     16.6\n",
       "16           West Point Grey           423           6.5     17.7\n",
       "17                  Downtown           393           5.8     16.4\n",
       "18              South Cambie           362           6.5     18.3\n",
       "19                  Fairview           248           6.8     16.9\n",
       "20                Strathcona           225           6.2     16.3\n",
       "21                  West End           211           7.2     18.0"
      ]
     },
     "execution_count": 14,
     "metadata": {},
     "output_type": "execute_result"
    }
   ],
   "source": [
    "# Rename neighbourhood_name to name since that's what's it's called in the geojson url\n",
    "trees_nbhd_num_df = pd.DataFrame(trees_df_age['neighbourhood_name'].value_counts()\n",
    "                            ).reset_index().rename(columns={'index':'name','neighbourhood_name':'trees_number'})\n",
    "\n",
    "trees_nbhd_age_df = trees_df_age.groupby('neighbourhood_name').mean().round(1).reset_index(\n",
    ").rename(columns={'neighbourhood_name':'name','diameter':'ave_diameter','age':'ave_age'})[['name','ave_diameter','ave_age']]\n",
    "\n",
    "trees_nbhd_df = trees_nbhd_num_df.merge(trees_nbhd_age_df, left_on='name', right_on='name')\n",
    "\n",
    "trees_nbhd_df"
   ]
  },
  {
   "cell_type": "code",
   "execution_count": 15,
   "metadata": {},
   "outputs": [
    {
     "data": {
      "text/html": [
       "\n",
       "<div id=\"altair-viz-2e4599e0193d48c6bf14905064b879cf\"></div>\n",
       "<script type=\"text/javascript\">\n",
       "  (function(spec, embedOpt){\n",
       "    let outputDiv = document.currentScript.previousElementSibling;\n",
       "    if (outputDiv.id !== \"altair-viz-2e4599e0193d48c6bf14905064b879cf\") {\n",
       "      outputDiv = document.getElementById(\"altair-viz-2e4599e0193d48c6bf14905064b879cf\");\n",
       "    }\n",
       "    const paths = {\n",
       "      \"vega\": \"https://cdn.jsdelivr.net/npm//vega@5?noext\",\n",
       "      \"vega-lib\": \"https://cdn.jsdelivr.net/npm//vega-lib?noext\",\n",
       "      \"vega-lite\": \"https://cdn.jsdelivr.net/npm//vega-lite@4.8.1?noext\",\n",
       "      \"vega-embed\": \"https://cdn.jsdelivr.net/npm//vega-embed@6?noext\",\n",
       "    };\n",
       "\n",
       "    function loadScript(lib) {\n",
       "      return new Promise(function(resolve, reject) {\n",
       "        var s = document.createElement('script');\n",
       "        s.src = paths[lib];\n",
       "        s.async = true;\n",
       "        s.onload = () => resolve(paths[lib]);\n",
       "        s.onerror = () => reject(`Error loading script: ${paths[lib]}`);\n",
       "        document.getElementsByTagName(\"head\")[0].appendChild(s);\n",
       "      });\n",
       "    }\n",
       "\n",
       "    function showError(err) {\n",
       "      outputDiv.innerHTML = `<div class=\"error\" style=\"color:red;\">${err}</div>`;\n",
       "      throw err;\n",
       "    }\n",
       "\n",
       "    function displayChart(vegaEmbed) {\n",
       "      vegaEmbed(outputDiv, spec, embedOpt)\n",
       "        .catch(err => showError(`Javascript Error: ${err.message}<br>This usually means there's a typo in your chart specification. See the javascript console for the full traceback.`));\n",
       "    }\n",
       "\n",
       "    if(typeof define === \"function\" && define.amd) {\n",
       "      requirejs.config({paths});\n",
       "      require([\"vega-embed\"], displayChart, err => showError(`Error loading script: ${err.message}`));\n",
       "    } else if (typeof vegaEmbed === \"function\") {\n",
       "      displayChart(vegaEmbed);\n",
       "    } else {\n",
       "      loadScript(\"vega\")\n",
       "        .then(() => loadScript(\"vega-lite\"))\n",
       "        .then(() => loadScript(\"vega-embed\"))\n",
       "        .catch(showError)\n",
       "        .then(() => displayChart(vegaEmbed));\n",
       "    }\n",
       "  })({\"config\": {\"view\": {\"continuousWidth\": 400, \"continuousHeight\": 300}, \"title\": {\"anchor\": \"middle\"}}, \"vconcat\": [{\"layer\": [{\"mark\": {\"type\": \"geoshape\", \"color\": \"white\", \"stroke\": \"grey\"}, \"encoding\": {}, \"projection\": {\"reflectY\": true, \"type\": \"identity\"}}, {\"mark\": \"geoshape\", \"encoding\": {\"color\": {\"type\": \"quantitative\", \"field\": \"trees_number\", \"title\": \"Number of trees\"}, \"opacity\": {\"condition\": {\"value\": 1, \"selection\": \"selector003\"}, \"value\": 0.1}, \"tooltip\": [{\"type\": \"nominal\", \"field\": \"name\"}, {\"type\": \"quantitative\", \"field\": \"trees_number\", \"title\": \"Number of trees\"}]}, \"projection\": {\"reflectY\": true, \"type\": \"identity\"}, \"selection\": {\"selector003\": {\"type\": \"single\", \"fields\": [\"name\"], \"on\": \"mouseover\"}}, \"transform\": [{\"lookup\": \"properties.name\", \"from\": {\"data\": {\"url\": \"/jupyter/user/648963/proxy/15339/883966a1e7ba58e5f38d79c6dfc44bed.json\"}, \"key\": \"name\", \"fields\": [\"trees_number\", \"name\"]}}]}], \"data\": {\"url\": \"https://raw.githubusercontent.com/UBC-MDS/exploratory-data-viz/main/data/local-area-boundary.geojson\", \"format\": {\"property\": \"features\", \"type\": \"json\"}}}, {\"data\": {\"url\": \"/jupyter/user/648963/proxy/15339/883966a1e7ba58e5f38d79c6dfc44bed.json\"}, \"mark\": \"point\", \"encoding\": {\"stroke\": {\"condition\": {\"value\": \"black\", \"selection\": \"selector003\"}, \"value\": \"#ffffff\"}, \"x\": {\"type\": \"quantitative\", \"field\": \"ave_diameter\", \"scale\": {\"zero\": false}, \"title\": \"Average diameter (inch)\"}, \"y\": {\"type\": \"quantitative\", \"field\": \"ave_age\", \"scale\": {\"zero\": false}, \"title\": \"Average age (yr)\"}}}], \"title\": {\"text\": \"Figure 7 Trees distribution per neighbourhood (number/age/diameter)\", \"subtitle\": [\"Hover selection on map is available by neighbourhood\", \"Tooltips are available on map\"], \"subtitleColor\": \"steelblue\", \"subtitleFontWeight\": \"bold\"}, \"$schema\": \"https://vega.github.io/schema/vega-lite/v4.8.1.json\"}, {\"mode\": \"vega-lite\"});\n",
       "</script>"
      ],
      "text/plain": [
       "alt.VConcatChart(...)"
      ]
     },
     "execution_count": 15,
     "metadata": {},
     "output_type": "execute_result"
    }
   ],
   "source": [
    "# Add tooltips and hover selection on map\n",
    "\n",
    "hover = alt.selection_single(fields=['name'], on='mouseover')\n",
    "\n",
    "plot_trees_nbhd = alt.Chart(data_geojson_remote).mark_geoshape().transform_lookup(\n",
    "    lookup='properties.name',\n",
    "    from_=alt.LookupData(trees_nbhd_df, 'name', ['trees_number','name'])).encode(\n",
    "    alt.Color('trees_number:Q',title='Number of trees'),\n",
    "    opacity=alt.condition(hover, alt.value(1), alt.value(0.1)),\n",
    "    tooltip=['name:N',alt.Tooltip('trees_number:Q', title='Number of trees')]\n",
    ").add_selection(hover).project(type='identity', reflectY=True)\n",
    "\n",
    "plot_trees_nbhd_map = base_map + plot_trees_nbhd\n",
    "\n",
    "# Plot ave_age per ave_diameter\n",
    "# Scale the x and y axis by specifying zero=False\n",
    "\n",
    "plot_age_dia = alt.Chart(trees_nbhd_df).mark_point().encode(\n",
    "    alt.X('ave_diameter:Q',scale=alt.Scale(zero=False),title='Average diameter (inch)'),\n",
    "    alt.Y('ave_age:Q',scale=alt.Scale(zero=False),title='Average age (yr)'),\n",
    "    stroke=alt.condition(hover, alt.value('black'), alt.value('#ffffff')))\n",
    "\n",
    "plot_7_title = alt.TitleParams(\n",
    "    \"Figure 7 Trees distribution per neighbourhood (number/age/diameter)\",\n",
    "    subtitle = [\"Hover selection on map is available by neighbourhood\", \"Tooltips are available on map\"],\n",
    "    subtitleColor='steelblue', subtitleFontWeight='bold')\n",
    "\n",
    "plot_7_nbhd_map = (plot_trees_nbhd_map & plot_age_dia\n",
    "                  ).properties(title=plot_7_title).configure_title(anchor='middle')\n",
    "\n",
    "plot_7_nbhd_map"
   ]
  },
  {
   "cell_type": "markdown",
   "metadata": {},
   "source": [
    "Based on the above trees_nbhd_df and Figure 7, the average age of trees in these neighbourhoods are between 16.3 years old and 19.7 years old. And the average diameter of trees are from 5.1 inch to 8.1 inch."
   ]
  },
  {
   "cell_type": "markdown",
   "metadata": {},
   "source": [
    "Through the link of map selection with the scatter plot of Figure 7, it is effective and efficient for audiences to hover over their target neighbourhood on map to quickly obtain the number of trees in the neighbourhood, know how old and how big the trees there on average."
   ]
  },
  {
   "cell_type": "markdown",
   "metadata": {},
   "source": [
    "## DISCUSSIONS"
   ]
  },
  {
   "cell_type": "markdown",
   "metadata": {},
   "source": [
    "The analysis intends to discover an overall view of Vancouver street trees for their biological diversity, growth and distributions within neighbourhoods. Through Figure 1 to Figure 7 and related tables, all four pre-defined questions have been answered. It has been confirmed that within 68 genera and a total of 14,083 trees, Acer is the most popular genus based on the dataset. It is not surprised as the maple trees are Canada's official arboreal emblem. Historical data shows Vancouver has maintained a dynamic public trees planting program. Especially between 1995 and 2013, a large number of trees had been added to the streets by the government. The plots generated can effectively provide audiences with more details about the yearly number of trees planted by genus, the growth rates by genus, the trees distribution and certain characters by neighbourhood. In addition, by comparing the growth rates within 68 genera, it is noted that TSUGA, POPULUS and PSEUDOTSUGA are the top three fastest growing genera in Vancouver."
   ]
  },
  {
   "cell_type": "markdown",
   "metadata": {},
   "source": [
    "Except for the four questions that have been discussed, **further questions** could be considered in the future:\n",
    "\n",
    "1. What is the specific genus distribution as per neighbourhood. This could be demonstrated on the Vancouver map, too. The answer will be informative for residents to know the distribution of fast-growing trees or shade trees in their area.\n",
    "2. What is the average height range of trees in each neighbourhood. Some house buyers may prefer taller trees or shade trees in their neighbourhood.\n",
    "3. Since genus is the highest level of tree classification in the df, data analyst may extend the analysis into the next level, species, or common names, or cultivar_names to continuously explore the data patterns."
   ]
  },
  {
   "cell_type": "markdown",
   "metadata": {},
   "source": [
    "In the analysis report, the **assumption and limitations of the analysis** should be highlighted for audiences to pay attention, including:\n",
    "\n",
    "1. The original data only includes the public trees on boulevards in the City of Vancouver. Park trees and private trees are not included.\n",
    "2. More than half of the original observations from the original dataset have been dropped since lacking information on the date of the tree being planted. Therefore, the analysis is based on the remaining observations only. This may limit the conclusions or insights extracted from this analysis.\n",
    "3. In order to simplify the analysis, the calculation of the age of trees has not included the specific month and day.\n",
    "4. The information related to the height of trees was collected as height_range_id. So audiences should be aware that the height figures in this report are not the absolute measurement of height.\n",
    "5. Due to the limited sample size, more research is required to verify the conclusion of the fastest growing trees in this report."
   ]
  },
  {
   "cell_type": "markdown",
   "metadata": {},
   "source": [
    "**The last important notes**: \n",
    "1. The top priority of this analysis is emphasizing on the demonstration of learning outcomes from the Data Vis perspectives. The analyst (author) recognized in this report the narrative should be more cohesive, the original dataset column analysis and data wrangling should be supported with more domain expertise if judged from a higher level data analysis standard.\n",
    "2. More statistical tools could be applied in the analysis to make the report more convincing. This will be considered for future work."
   ]
  },
  {
   "cell_type": "markdown",
   "metadata": {},
   "source": [
    "## DASHBOARD 1"
   ]
  },
  {
   "cell_type": "code",
   "execution_count": 16,
   "metadata": {},
   "outputs": [
    {
     "data": {
      "text/html": [
       "\n",
       "<div id=\"altair-viz-5cbabcbf07654dd3bf7ae6e49947ef15\"></div>\n",
       "<script type=\"text/javascript\">\n",
       "  (function(spec, embedOpt){\n",
       "    let outputDiv = document.currentScript.previousElementSibling;\n",
       "    if (outputDiv.id !== \"altair-viz-5cbabcbf07654dd3bf7ae6e49947ef15\") {\n",
       "      outputDiv = document.getElementById(\"altair-viz-5cbabcbf07654dd3bf7ae6e49947ef15\");\n",
       "    }\n",
       "    const paths = {\n",
       "      \"vega\": \"https://cdn.jsdelivr.net/npm//vega@5?noext\",\n",
       "      \"vega-lib\": \"https://cdn.jsdelivr.net/npm//vega-lib?noext\",\n",
       "      \"vega-lite\": \"https://cdn.jsdelivr.net/npm//vega-lite@4.8.1?noext\",\n",
       "      \"vega-embed\": \"https://cdn.jsdelivr.net/npm//vega-embed@6?noext\",\n",
       "    };\n",
       "\n",
       "    function loadScript(lib) {\n",
       "      return new Promise(function(resolve, reject) {\n",
       "        var s = document.createElement('script');\n",
       "        s.src = paths[lib];\n",
       "        s.async = true;\n",
       "        s.onload = () => resolve(paths[lib]);\n",
       "        s.onerror = () => reject(`Error loading script: ${paths[lib]}`);\n",
       "        document.getElementsByTagName(\"head\")[0].appendChild(s);\n",
       "      });\n",
       "    }\n",
       "\n",
       "    function showError(err) {\n",
       "      outputDiv.innerHTML = `<div class=\"error\" style=\"color:red;\">${err}</div>`;\n",
       "      throw err;\n",
       "    }\n",
       "\n",
       "    function displayChart(vegaEmbed) {\n",
       "      vegaEmbed(outputDiv, spec, embedOpt)\n",
       "        .catch(err => showError(`Javascript Error: ${err.message}<br>This usually means there's a typo in your chart specification. See the javascript console for the full traceback.`));\n",
       "    }\n",
       "\n",
       "    if(typeof define === \"function\" && define.amd) {\n",
       "      requirejs.config({paths});\n",
       "      require([\"vega-embed\"], displayChart, err => showError(`Error loading script: ${err.message}`));\n",
       "    } else if (typeof vegaEmbed === \"function\") {\n",
       "      displayChart(vegaEmbed);\n",
       "    } else {\n",
       "      loadScript(\"vega\")\n",
       "        .then(() => loadScript(\"vega-lite\"))\n",
       "        .then(() => loadScript(\"vega-embed\"))\n",
       "        .catch(showError)\n",
       "        .then(() => displayChart(vegaEmbed));\n",
       "    }\n",
       "  })({\"config\": {\"view\": {\"continuousWidth\": 400, \"continuousHeight\": 300}}, \"hconcat\": [{\"layer\": [{\"mark\": \"bar\", \"encoding\": {\"x\": {\"type\": \"quantitative\", \"aggregate\": \"count\", \"title\": \"Number of Trees\"}, \"y\": {\"type\": \"nominal\", \"field\": \"genus_name\", \"sort\": \"x\", \"title\": \"Genus\"}}}, {\"mark\": {\"type\": \"text\", \"align\": \"left\", \"dx\": 2}, \"encoding\": {\"text\": {\"type\": \"quantitative\", \"aggregate\": \"count\"}, \"x\": {\"type\": \"quantitative\", \"aggregate\": \"count\", \"title\": \"Number of Trees\"}, \"y\": {\"type\": \"nominal\", \"field\": \"genus_name\", \"sort\": \"x\", \"title\": \"Genus\"}}}], \"data\": {\"url\": \"/jupyter/user/648963/proxy/15339/b29f3901103bcc15a69c85a3728fa802.json\"}, \"height\": 1100, \"title\": {\"text\": \"Figure 1 Number of street trees planted per genus\", \"subtitle\": \"Acer is the most popular genus of street trees\"}, \"width\": 250}, {\"vconcat\": [{\"mark\": \"bar\", \"encoding\": {\"x\": {\"type\": \"nominal\", \"field\": \"year\", \"title\": null}, \"y\": {\"type\": \"quantitative\", \"aggregate\": \"count\", \"title\": \"Number of trees planted\"}}, \"height\": 300, \"title\": {\"text\": \"Figure 2 Number of street trees planted each year\", \"subtitle\": \"(Data available from 1989 to 2019)\"}, \"width\": 350}, {\"mark\": \"bar\", \"encoding\": {\"color\": {\"type\": \"nominal\", \"field\": \"genus_name\", \"title\": \"Genus name\"}, \"opacity\": {\"condition\": {\"value\": 0.9, \"selection\": \"selector001\"}, \"value\": 0.0}, \"x\": {\"type\": \"nominal\", \"field\": \"year\", \"title\": null}, \"y\": {\"type\": \"quantitative\", \"aggregate\": \"count\", \"stack\": false, \"title\": \"Number of trees planted per genus\"}}, \"height\": 300, \"selection\": {\"selector001\": {\"type\": \"single\", \"fields\": [\"genus_name\"], \"bind\": {\"input\": \"select\", \"options\": [\"ABIES\", \"ACER\", \"AESCULUS\", \"AMELANCHIER\", \"BETULA\", \"CALOCEDRUS\", \"CARPINUS\", \"CATALPA\", \"CEDRUS\", \"CELTIS\", \"CERCIDIPHYLLUM\", \"CERCIS\", \"CHAMAECYPARIS\", \"CHITALPA\", \"CLADRASTIS\", \"CORNUS\", \"CORYLUS\", \"CRATAEGUS\", \"DAVIDIA\", \"EUCOMMIA\", \"EUONYMUS\", \"FAGUS\", \"FRAXINUS\", \"GINKGO\", \"GLEDITSIA\", \"GYMNOCLADUS\", \"HIBISCUS\", \"JUGLANS\", \"KOELREUTERIA\", \"LABURNUM\", \"LIQUIDAMBAR\", \"LIRIODENDRON\", \"MAGNOLIA\", \"MALUS\", \"MANGLIETIA\", \"MESPILUS\", \"METASEQUOIA\", \"NOTHOFAGUS\", \"NYSSA\", \"OSTRYIA\", \"PARROTIA\", \"PICEA\", \"PINUS\", \"PLATANUS\", \"POPULUS\", \"PRUNUS\", \"PSEUDOTSUGA\", \"PTEROCARYA\", \"PYRUS\", \"QUERCUS\", \"RHAMNUS\", \"RHUS\", \"ROBINIA\", \"SALIX\", \"SEQUOIA\", \"SEQUOIADENDRON\", \"SOPHORA\", \"SORBUS\", \"STEWARTIA\", \"STYRAX\", \"SYRINGA\", \"TAXUS\", \"THUJA\", \"TILIA\", \"TRACHYCARPUS\", \"TSUGA\", \"ULMUS\", \"ZELKOVA\"], \"name\": \"Genus\"}}}, \"title\": {\"text\": \"Figure 3 Number of street trees planted each year by genus(from 1989 to 2019)\", \"subtitle\": \"Dropdown selection is available by genus\", \"subtitleColor\": \"steelblue\", \"subtitleFontWeight\": \"bold\"}, \"width\": 350}, {\"data\": {\"url\": \"/jupyter/user/648963/proxy/15339/441fa82d8e974262f3f2564a79209ee6.json\"}, \"mark\": {\"type\": \"point\", \"size\": 5}, \"encoding\": {\"opacity\": {\"condition\": {\"value\": 0.9, \"selection\": \"selector001\"}, \"value\": 0.0}, \"x\": {\"type\": \"quantitative\", \"field\": \"rate_dia\", \"title\": \"Growth rate in diameter (inch/yr)\"}, \"y\": {\"type\": \"quantitative\", \"field\": \"rate_height\", \"title\": \"Growth rate in height (unit/yr)\"}}, \"height\": 300, \"selection\": {\"selector002\": {\"type\": \"interval\", \"bind\": \"scales\", \"encodings\": [\"x\", \"y\"]}, \"selector001\": {\"type\": \"single\", \"fields\": [\"genus_name\"], \"bind\": {\"input\": \"select\", \"options\": [\"ABIES\", \"ACER\", \"AESCULUS\", \"AMELANCHIER\", \"BETULA\", \"CALOCEDRUS\", \"CARPINUS\", \"CATALPA\", \"CEDRUS\", \"CELTIS\", \"CERCIDIPHYLLUM\", \"CERCIS\", \"CHAMAECYPARIS\", \"CHITALPA\", \"CLADRASTIS\", \"CORNUS\", \"CORYLUS\", \"CRATAEGUS\", \"DAVIDIA\", \"EUCOMMIA\", \"EUONYMUS\", \"FAGUS\", \"FRAXINUS\", \"GINKGO\", \"GLEDITSIA\", \"GYMNOCLADUS\", \"HIBISCUS\", \"JUGLANS\", \"KOELREUTERIA\", \"LABURNUM\", \"LIQUIDAMBAR\", \"LIRIODENDRON\", \"MAGNOLIA\", \"MALUS\", \"MANGLIETIA\", \"MESPILUS\", \"METASEQUOIA\", \"NOTHOFAGUS\", \"NYSSA\", \"OSTRYIA\", \"PARROTIA\", \"PICEA\", \"PINUS\", \"PLATANUS\", \"POPULUS\", \"PRUNUS\", \"PSEUDOTSUGA\", \"PTEROCARYA\", \"PYRUS\", \"QUERCUS\", \"RHAMNUS\", \"RHUS\", \"ROBINIA\", \"SALIX\", \"SEQUOIA\", \"SEQUOIADENDRON\", \"SOPHORA\", \"SORBUS\", \"STEWARTIA\", \"STYRAX\", \"SYRINGA\", \"TAXUS\", \"THUJA\", \"TILIA\", \"TRACHYCARPUS\", \"TSUGA\", \"ULMUS\", \"ZELKOVA\"], \"name\": \"Genus\"}}}, \"title\": {\"text\": \"Figure 4 Trees growth rate in diameter & height per genus\", \"subtitle\": [\"Dropdown selection is available by genus\", \"Zooming and Panning are available\"], \"subtitleColor\": \"steelblue\", \"subtitleFontWeight\": \"bold\"}, \"width\": 350}], \"data\": {\"url\": \"/jupyter/user/648963/proxy/15339/92e48fd7e6d0899a1decc58d8602b681.json\"}}], \"$schema\": \"https://vega.github.io/schema/vega-lite/v4.8.1.json\"}, {\"mode\": \"vega-lite\"});\n",
       "</script>"
      ],
      "text/plain": [
       "alt.HConcatChart(...)"
      ]
     },
     "execution_count": 16,
     "metadata": {},
     "output_type": "execute_result"
    }
   ],
   "source": [
    "# Resize plots to accommodate the combined panel\n",
    "# Create new object to avoid overwriting previous plots\n",
    "plot_1 = plot_1_genus.properties(height=1100,width=250)\n",
    "plot_2 = plot_2_year.properties(height=300,width=350)\n",
    "plot_3 = plot_3_genus_year_bar.properties(height=300,width=350)\n",
    "plot_4 = plot_4_growth_rates_genus.properties(height=300,width=350)\n",
    "\n",
    "plot_1 | (plot_2 & plot_3 & plot_4)"
   ]
  },
  {
   "cell_type": "markdown",
   "metadata": {},
   "source": [
    "## DASHBOARD 2"
   ]
  },
  {
   "cell_type": "code",
   "execution_count": 17,
   "metadata": {},
   "outputs": [
    {
     "data": {
      "text/html": [
       "\n",
       "<div id=\"altair-viz-63159d730aab43a0afa22adbb2e3d7eb\"></div>\n",
       "<script type=\"text/javascript\">\n",
       "  (function(spec, embedOpt){\n",
       "    let outputDiv = document.currentScript.previousElementSibling;\n",
       "    if (outputDiv.id !== \"altair-viz-63159d730aab43a0afa22adbb2e3d7eb\") {\n",
       "      outputDiv = document.getElementById(\"altair-viz-63159d730aab43a0afa22adbb2e3d7eb\");\n",
       "    }\n",
       "    const paths = {\n",
       "      \"vega\": \"https://cdn.jsdelivr.net/npm//vega@5?noext\",\n",
       "      \"vega-lib\": \"https://cdn.jsdelivr.net/npm//vega-lib?noext\",\n",
       "      \"vega-lite\": \"https://cdn.jsdelivr.net/npm//vega-lite@4.8.1?noext\",\n",
       "      \"vega-embed\": \"https://cdn.jsdelivr.net/npm//vega-embed@6?noext\",\n",
       "    };\n",
       "\n",
       "    function loadScript(lib) {\n",
       "      return new Promise(function(resolve, reject) {\n",
       "        var s = document.createElement('script');\n",
       "        s.src = paths[lib];\n",
       "        s.async = true;\n",
       "        s.onload = () => resolve(paths[lib]);\n",
       "        s.onerror = () => reject(`Error loading script: ${paths[lib]}`);\n",
       "        document.getElementsByTagName(\"head\")[0].appendChild(s);\n",
       "      });\n",
       "    }\n",
       "\n",
       "    function showError(err) {\n",
       "      outputDiv.innerHTML = `<div class=\"error\" style=\"color:red;\">${err}</div>`;\n",
       "      throw err;\n",
       "    }\n",
       "\n",
       "    function displayChart(vegaEmbed) {\n",
       "      vegaEmbed(outputDiv, spec, embedOpt)\n",
       "        .catch(err => showError(`Javascript Error: ${err.message}<br>This usually means there's a typo in your chart specification. See the javascript console for the full traceback.`));\n",
       "    }\n",
       "\n",
       "    if(typeof define === \"function\" && define.amd) {\n",
       "      requirejs.config({paths});\n",
       "      require([\"vega-embed\"], displayChart, err => showError(`Error loading script: ${err.message}`));\n",
       "    } else if (typeof vegaEmbed === \"function\") {\n",
       "      displayChart(vegaEmbed);\n",
       "    } else {\n",
       "      loadScript(\"vega\")\n",
       "        .then(() => loadScript(\"vega-lite\"))\n",
       "        .then(() => loadScript(\"vega-embed\"))\n",
       "        .catch(showError)\n",
       "        .then(() => displayChart(vegaEmbed));\n",
       "    }\n",
       "  })({\"config\": {\"view\": {\"continuousWidth\": 400, \"continuousHeight\": 300}}, \"vconcat\": [{\"hconcat\": [{\"mark\": \"bar\", \"encoding\": {\"color\": {\"type\": \"quantitative\", \"aggregate\": \"count\", \"scale\": {\"scheme\": \"blues\"}, \"title\": \"Number of trees\"}, \"x\": {\"type\": \"quantitative\", \"aggregate\": \"mean\", \"field\": \"rate_dia\", \"title\": \"Average growth rate in diameter (inch/yr)\"}, \"y\": {\"type\": \"nominal\", \"field\": \"genus_name\", \"sort\": \"x\", \"title\": \"Genus\"}}, \"width\": 130}, {\"mark\": {\"type\": \"boxplot\", \"color\": \"green\"}, \"encoding\": {\"x\": {\"type\": \"quantitative\", \"field\": \"rate_dia\", \"scale\": {\"clamp\": true, \"domain\": [0, 4]}, \"title\": \"Growth rate in diameter (inch/yr)\"}, \"y\": {\"type\": \"nominal\", \"field\": \"genus_name\", \"sort\": [\"RHUS\", \"RHAMNUS\", \"SALIX\", \"CEDRUS\", \"EUONYMUS\", \"MANGLIETIA\", \"KOELREUTERIA\", \"MESPILUS\", \"GYMNOCLADUS\", \"PICEA\", \"SOPHORA\", \"LABURNUM\", \"PYRUS\", \"MALUS\", \"HIBISCUS\", \"CRATAEGUS\", \"OSTRYIA\", \"STYRAX\", \"TRACHYCARPUS\", \"ABIES\", \"CATALPA\", \"DAVIDIA\", \"CORYLUS\", \"GLEDITSIA\", \"SEQUOIADENDRON\", \"SYRINGA\", \"CORNUS\", \"MAGNOLIA\", \"TAXUS\", \"CLADRASTIS\", \"GINKGO\", \"SORBUS\", \"EUCOMMIA\", \"CELTIS\", \"FRAXINUS\", \"CERCIS\", \"CHITALPA\", \"LIRIODENDRON\", \"ACER\", \"PARROTIA\", \"NOTHOFAGUS\", \"AMELANCHIER\", \"CARPINUS\", \"PRUNUS\", \"TILIA\", \"PINUS\", \"FAGUS\", \"ZELKOVA\", \"CERCIDIPHYLLUM\", \"LIQUIDAMBAR\", \"CALOCEDRUS\", \"QUERCUS\", \"PLATANUS\", \"NYSSA\", \"ROBINIA\", \"ULMUS\", \"STEWARTIA\", \"JUGLANS\", \"SEQUOIA\", \"BETULA\", \"CHAMAECYPARIS\", \"METASEQUOIA\", \"THUJA\", \"PTEROCARYA\", \"AESCULUS\", \"POPULUS\", \"PSEUDOTSUGA\", \"TSUGA\"], \"title\": \"Genus\"}}, \"width\": 310}], \"title\": {\"text\": \"Figure 5 Trees average growth rate in diameter per genus\", \"subtitle\": \"TSUGA, PSEUDOTSUGA & POPULUS are top three fastest growing genera\"}}, {\"hconcat\": [{\"mark\": \"bar\", \"encoding\": {\"color\": {\"type\": \"quantitative\", \"aggregate\": \"count\", \"scale\": {\"scheme\": \"teals\"}, \"title\": \"Number of trees\"}, \"x\": {\"type\": \"quantitative\", \"aggregate\": \"mean\", \"field\": \"rate_height\", \"title\": \"Average growth rate in height (unit/yr)\"}, \"y\": {\"type\": \"nominal\", \"field\": \"genus_name\", \"sort\": \"x\", \"title\": \"Genus\"}}, \"width\": 130}, {\"mark\": {\"type\": \"boxplot\", \"color\": \"grey\"}, \"encoding\": {\"x\": {\"type\": \"quantitative\", \"field\": \"rate_height\", \"scale\": {\"clamp\": true, \"domain\": [0, 0.6]}, \"title\": \"Growth rate in height (unit/yr)\"}, \"y\": {\"type\": \"nominal\", \"field\": \"genus_name\", \"sort\": [\"TRACHYCARPUS\", \"JUGLANS\", \"SOPHORA\", \"SEQUOIA\", \"KOELREUTERIA\", \"EUONYMUS\", \"GYMNOCLADUS\", \"CEDRUS\", \"RHAMNUS\", \"MANGLIETIA\", \"MALUS\", \"PYRUS\", \"HIBISCUS\", \"CATALPA\", \"MESPILUS\", \"EUCOMMIA\", \"PICEA\", \"CRATAEGUS\", \"CORYLUS\", \"OSTRYIA\", \"SEQUOIADENDRON\", \"CLADRASTIS\", \"RHUS\", \"SALIX\", \"ZELKOVA\", \"SORBUS\", \"DAVIDIA\", \"STYRAX\", \"GLEDITSIA\", \"GINKGO\", \"CORNUS\", \"PRUNUS\", \"MAGNOLIA\", \"TAXUS\", \"NOTHOFAGUS\", \"CELTIS\", \"PINUS\", \"CERCIS\", \"SYRINGA\", \"ACER\", \"ABIES\", \"LIRIODENDRON\", \"LABURNUM\", \"FRAXINUS\", \"LIQUIDAMBAR\", \"PARROTIA\", \"CARPINUS\", \"CHITALPA\", \"TILIA\", \"ROBINIA\", \"AMELANCHIER\", \"FAGUS\", \"CERCIDIPHYLLUM\", \"PTEROCARYA\", \"QUERCUS\", \"THUJA\", \"ULMUS\", \"METASEQUOIA\", \"PLATANUS\", \"CHAMAECYPARIS\", \"AESCULUS\", \"CALOCEDRUS\", \"NYSSA\", \"BETULA\", \"STEWARTIA\", \"PSEUDOTSUGA\", \"POPULUS\", \"TSUGA\"], \"title\": \"Genus\"}}, \"width\": 310}], \"title\": {\"text\": \"Figure 6 Trees average growth rate in height per genus\", \"subtitle\": \"TSUGA, POPULUS & PSEUDOTSUGA are top three fastest growing genera\"}}, {\"vconcat\": [{\"layer\": [{\"mark\": {\"type\": \"geoshape\", \"color\": \"white\", \"stroke\": \"grey\"}, \"encoding\": {}, \"projection\": {\"reflectY\": true, \"type\": \"identity\"}}, {\"mark\": \"geoshape\", \"encoding\": {\"color\": {\"type\": \"quantitative\", \"field\": \"trees_number\", \"title\": \"Number of trees\"}, \"opacity\": {\"condition\": {\"value\": 1, \"selection\": \"selector003\"}, \"value\": 0.1}, \"tooltip\": [{\"type\": \"nominal\", \"field\": \"name\"}, {\"type\": \"quantitative\", \"field\": \"trees_number\", \"title\": \"Number of trees\"}]}, \"projection\": {\"reflectY\": true, \"type\": \"identity\"}, \"selection\": {\"selector003\": {\"type\": \"single\", \"fields\": [\"name\"], \"on\": \"mouseover\"}}, \"transform\": [{\"lookup\": \"properties.name\", \"from\": {\"data\": {\"url\": \"/jupyter/user/648963/proxy/15339/883966a1e7ba58e5f38d79c6dfc44bed.json\"}, \"key\": \"name\", \"fields\": [\"trees_number\", \"name\"]}}]}], \"data\": {\"url\": \"https://raw.githubusercontent.com/UBC-MDS/exploratory-data-viz/main/data/local-area-boundary.geojson\", \"format\": {\"property\": \"features\", \"type\": \"json\"}}}, {\"data\": {\"url\": \"/jupyter/user/648963/proxy/15339/883966a1e7ba58e5f38d79c6dfc44bed.json\"}, \"mark\": \"point\", \"encoding\": {\"stroke\": {\"condition\": {\"value\": \"black\", \"selection\": \"selector003\"}, \"value\": \"#ffffff\"}, \"x\": {\"type\": \"quantitative\", \"field\": \"ave_diameter\", \"scale\": {\"zero\": false}, \"title\": \"Average diameter (inch)\"}, \"y\": {\"type\": \"quantitative\", \"field\": \"ave_age\", \"scale\": {\"zero\": false}, \"title\": \"Average age (yr)\"}}}], \"title\": {\"text\": \"Figure 7 Trees distribution per neighbourhood (number/age/diameter)\", \"subtitle\": [\"Hover selection on map is available by neighbourhood\", \"Tooltips are available on map\"], \"subtitleColor\": \"steelblue\", \"subtitleFontWeight\": \"bold\"}}], \"data\": {\"url\": \"/jupyter/user/648963/proxy/15339/441fa82d8e974262f3f2564a79209ee6.json\"}, \"$schema\": \"https://vega.github.io/schema/vega-lite/v4.8.1.json\"}, {\"mode\": \"vega-lite\"});\n",
       "</script>"
      ],
      "text/plain": [
       "alt.VConcatChart(...)"
      ]
     },
     "execution_count": 17,
     "metadata": {},
     "output_type": "execute_result"
    }
   ],
   "source": [
    "# Since objects with \"config\" attribute cannot be used within VConcatChart, remove the previous \"config\"\n",
    "# Create new object to avoid overwriting previous plots\n",
    "plot_5 = (plot_ave_growth_rate_dia_bar | plot_ave_growth_rate_dia_box_scale).properties(title=plot_5_title)\n",
    "plot_6 = (plot_ave_growth_rate_height_bar | plot_ave_growth_rate_height_box_scale).properties(title=plot_6_title)\n",
    "plot_7 = (plot_trees_nbhd_map & plot_age_dia).properties(title=plot_7_title)\n",
    "\n",
    "(plot_5 & plot_6) & plot_7"
   ]
  },
  {
   "cell_type": "markdown",
   "metadata": {},
   "source": [
    "## REFERENCES"
   ]
  },
  {
   "cell_type": "markdown",
   "metadata": {},
   "source": [
    "### Resources Used"
   ]
  },
  {
   "cell_type": "markdown",
   "metadata": {},
   "source": [
    "Not all the work in this project is original. The following resources have been used as references."
   ]
  },
  {
   "cell_type": "markdown",
   "metadata": {},
   "source": [
    "* <font color='blue'>Data Source</font>"
   ]
  },
  {
   "cell_type": "markdown",
   "metadata": {},
   "source": [
    "The Vancouver street trees dataset provided by UBC Data Visualization course. The dataset schema from <a href=\"https://opendata.vancouver.ca/explore/dataset/street-trees/information/?disjunctive.species_name&disjunctive.common_name&disjunctive.height_range_id\" target=\"_blank\">City of Vancouver Open Data Portal - Street Trees</a>."
   ]
  },
  {
   "cell_type": "markdown",
   "metadata": {},
   "source": [
    "* <font color='blue'>Sample Report</font>"
   ]
  },
  {
   "cell_type": "markdown",
   "metadata": {},
   "source": [
    "The sample reports, *Evolution of LEGO* EDA report and analysis report provided by UBC Data Visualization course."
   ]
  },
  {
   "cell_type": "markdown",
   "metadata": {},
   "source": [
    "* <font color='blue'>Report Writing</font>"
   ]
  },
  {
   "cell_type": "markdown",
   "metadata": {},
   "source": [
    "Markdown formatting for the text cells in JupyterNotebook, *Basic Syntax - The Markdown elements outlined in John Gruber's design document*, retrieved on November 1, 2021 from <a href=\"https://www.markdownguide.org/basic-syntax/\" target=\"_blank\">Markdown Guide</a>."
   ]
  },
  {
   "cell_type": "markdown",
   "metadata": {},
   "source": [
    "* <font color='blue'>Python and Data Vis Techniques</font>"
   ]
  },
  {
   "cell_type": "markdown",
   "metadata": {},
   "source": [
    "Learned from UBC Data Visualization course, Programming in Python for Data Science course, Piazza group discussions, <a href=\"https://altair-viz.github.io/\" target=\"_blank\">Altair Documentation</a>, and other self-learning resources from the internet."
   ]
  },
  {
   "cell_type": "markdown",
   "metadata": {},
   "source": [
    "<h2><center>**End of the Report**</center></h2>"
   ]
  }
 ],
 "metadata": {
  "kernelspec": {
   "display_name": "Python 3",
   "language": "python",
   "name": "python3"
  },
  "language_info": {
   "codemirror_mode": {
    "name": "ipython",
    "version": 3
   },
   "file_extension": ".py",
   "mimetype": "text/x-python",
   "name": "python",
   "nbconvert_exporter": "python",
   "pygments_lexer": "ipython3",
   "version": "3.8.5"
  }
 },
 "nbformat": 4,
 "nbformat_minor": 4
}
